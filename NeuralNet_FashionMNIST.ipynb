{
 "cells": [
  {
   "cell_type": "code",
   "execution_count": 1,
   "id": "b1e6244d",
   "metadata": {},
   "outputs": [],
   "source": [
    "%matplotlib inline\n",
    "import import_ipynb\n",
    "import NeuralNet_FromScratch as nnfs_module\n",
    "import pandas as pd\n",
    "import numpy as np\n",
    "import matplotlib.pyplot as plt\n",
    "import seaborn as sns\n",
    "from matplotlib import style\n",
    "from nnfs.datasets import spiral_data\n",
    "from nnfs.datasets import sine_data\n",
    "from zipfile import ZipFile\n",
    "import nnfs\n",
    "import os\n",
    "import urllib\n",
    "import urllib.request\n",
    "import cv2\n",
    "\n",
    "style.use(\"dark_background\")"
   ]
  },
  {
   "cell_type": "markdown",
   "id": "afef6b27",
   "metadata": {},
   "source": [
    "# Retreive Dataset"
   ]
  },
  {
   "cell_type": "code",
   "execution_count": 2,
   "id": "07050469",
   "metadata": {},
   "outputs": [
    {
     "name": "stdout",
     "output_type": "stream",
     "text": [
      "Date preparation is complete.\n"
     ]
    }
   ],
   "source": [
    "URL = 'https://nnfs.io/datasets/fashion_mnist_images.zip'\n",
    "FILE = 'fashion_mnist_images.zip'\n",
    "FOLDER = 'fashion_mnist_images'\n",
    "\n",
    "if not os.path.isfile(FILE):\n",
    "    print(f'Downloading {URL} and saving as {FILE}...')\n",
    "    urllib.request.urlretrieve(URL, FILE)\n",
    "\n",
    "if not os.path.isdir(FOLDER):\n",
    "    print(\"Unzipping images ...\")\n",
    "    with ZipFile(FILE) as zip_images:\n",
    "        zip_images.extractall(FOLDER)\n",
    "    print('DONE')\n",
    "    \n",
    "print(\"Date preparation is complete.\")"
   ]
  },
  {
   "cell_type": "markdown",
   "id": "079414a9",
   "metadata": {},
   "source": [
    "# Fashion MNIST Classifications\n",
    "0: T-shirt / top\n",
    "\n",
    "1: Trouser\n",
    "\n",
    "2: Pullover\n",
    "\n",
    "3: Dress\n",
    "\n",
    "4: Coat\n",
    "\n",
    "5: Sandal\n",
    "\n",
    "6: Shirt\n",
    "\n",
    "7: Sneaker\n",
    "\n",
    "8: Bag\n",
    "\n",
    "9: Ankle Boot"
   ]
  },
  {
   "cell_type": "markdown",
   "id": "df978819",
   "metadata": {},
   "source": [
    "# Data Loading Function"
   ]
  },
  {
   "cell_type": "code",
   "execution_count": 3,
   "id": "95fe8920",
   "metadata": {},
   "outputs": [],
   "source": [
    "def load_mnist_dataset(dataset, path):\n",
    "    \n",
    "    #scan all directories and create list of labels\n",
    "    labels = os.listdir(os.path.join(path, dataset))\n",
    "    \n",
    "    #create lists for samples and labels\n",
    "    X = []\n",
    "    y = []\n",
    "    \n",
    "    #for each label folder\n",
    "    for label in labels:\n",
    "        #for each image in the given folder\n",
    "        for file in os.listdir(os.path.join(path, dataset, label)):\n",
    "            #read the image\n",
    "            image = cv2.imread(os.path.join(\\\n",
    "                                path, dataset, label, file),\\\n",
    "                               cv2.IMREAD_UNCHANGED)\n",
    "            \n",
    "            #append image to x and label to y\n",
    "            X.append(image)\n",
    "            y.append(label)\n",
    "            \n",
    "    #convert data structure to numpy arrays and return\n",
    "    return np.array(X), np.array(y).astype('uint8')"
   ]
  },
  {
   "cell_type": "markdown",
   "id": "1abccd25",
   "metadata": {},
   "source": [
    "# Create MNIST Train & Test Datasets"
   ]
  },
  {
   "cell_type": "code",
   "execution_count": 4,
   "id": "bfa603b6",
   "metadata": {},
   "outputs": [],
   "source": [
    "def create_data_mnist(path):\n",
    "    \n",
    "    #load both sets\n",
    "    X, y = load_mnist_dataset('train', path)\n",
    "    X_test, y_test = load_mnist_dataset('test', path)\n",
    "    \n",
    "    #return all datasets\n",
    "    return X, y, X_test, y_test"
   ]
  },
  {
   "cell_type": "markdown",
   "id": "b1bd8149",
   "metadata": {},
   "source": [
    "# Generate Train and Test Sets"
   ]
  },
  {
   "cell_type": "code",
   "execution_count": 5,
   "id": "f079590f",
   "metadata": {},
   "outputs": [
    {
     "name": "stdout",
     "output_type": "stream",
     "text": [
      "60000\n",
      "60000\n",
      "10000\n",
      "10000\n"
     ]
    }
   ],
   "source": [
    "X, y, X_test, y_test = create_data_mnist(FOLDER)\n",
    "print(len(X))\n",
    "print(len(y))\n",
    "print(len(X_test))\n",
    "print(len(y_test))"
   ]
  },
  {
   "cell_type": "markdown",
   "id": "3f6c3d4f",
   "metadata": {},
   "source": [
    "# Data Preprocessing"
   ]
  },
  {
   "cell_type": "markdown",
   "id": "79039775",
   "metadata": {},
   "source": [
    "## Scale features\n",
    "range from -1 to 1"
   ]
  },
  {
   "cell_type": "code",
   "execution_count": 6,
   "id": "7224c820",
   "metadata": {},
   "outputs": [
    {
     "name": "stdout",
     "output_type": "stream",
     "text": [
      "-1.0 1.0\n",
      "(60000, 28, 28)\n"
     ]
    }
   ],
   "source": [
    "X = (X.astype(np.float32) - 127.5) / 127.5\n",
    "X_test = (X_test.astype(np.float32) - 127.5) / 127.5\n",
    "\n",
    "print(X.min(), X.max())\n",
    "print(X.shape)"
   ]
  },
  {
   "cell_type": "markdown",
   "id": "5e413d27",
   "metadata": {},
   "source": [
    "## Reshape Data\n",
    "From 3D to 2D"
   ]
  },
  {
   "cell_type": "code",
   "execution_count": 7,
   "id": "a6b998c0",
   "metadata": {},
   "outputs": [
    {
     "name": "stdout",
     "output_type": "stream",
     "text": [
      "(60000, 784)\n",
      "(10000, 784)\n"
     ]
    }
   ],
   "source": [
    "X = X.reshape(X.shape[0], -1)\n",
    "X_test = X_test.reshape(X_test.shape[0], -1)\n",
    "\n",
    "print(X.shape)\n",
    "print(X_test.shape)"
   ]
  },
  {
   "cell_type": "markdown",
   "id": "0485d225",
   "metadata": {},
   "source": [
    "## Shuffle Samples"
   ]
  },
  {
   "cell_type": "code",
   "execution_count": 8,
   "id": "47b56be7",
   "metadata": {},
   "outputs": [
    {
     "data": {
      "image/png": "[encoded data removed]",
      "text/plain": [
       "<Figure size 640x480 with 1 Axes>"
      ]
     },
     "metadata": {},
     "output_type": "display_data"
    },
    {
     "name": "stdout",
     "output_type": "stream",
     "text": [
      "7\n"
     ]
    },
    {
     "data": {
      "image/png": "[encoded data removed]",
      "text/plain": [
       "<Figure size 640x480 with 1 Axes>"
      ]
     },
     "metadata": {},
     "output_type": "display_data"
    },
    {
     "name": "stdout",
     "output_type": "stream",
     "text": [
      "1\n"
     ]
    }
   ],
   "source": [
    "keys = np.array(range(X.shape[0])) #number of indices in samples\n",
    "np.random.shuffle(keys) #shuffle indices\n",
    "\n",
    "#grab by indice and assign to array\n",
    "X = X[keys]\n",
    "y = y[keys]\n",
    "\n",
    "#test shuffling\n",
    "plt.imshow(X[8].reshape(28,28), cmap='gray') #reshape back to a matrix for veiwing\n",
    "plt.show()\n",
    "print(y[8])\n",
    "\n",
    "plt.imshow(X[999].reshape(28,28), cmap='gray') #reshape back to a matrix for veiwing\n",
    "plt.show()\n",
    "print(y[999])"
   ]
  },
  {
   "cell_type": "markdown",
   "id": "d6e7e9f0",
   "metadata": {},
   "source": [
    "# Training"
   ]
  },
  {
   "cell_type": "code",
   "execution_count": 9,
   "id": "b092134c",
   "metadata": {},
   "outputs": [
    {
     "name": "stdout",
     "output_type": "stream",
     "text": [
      "epoch: 1\n",
      "step: 0, acc: 0.172, loss: 2.468 (data_loss: 2.468, reg_loss: 0.000000), lr: 0.001\n",
      "step: 100, acc: 0.742, loss: 0.599 (data_loss: 0.599, reg_loss: 0.000000), lr: 0.0009950248756218907\n",
      "step: 200, acc: 0.898, loss: 0.357 (data_loss: 0.357, reg_loss: 0.000000), lr: 0.0009900990099009901\n",
      "step: 300, acc: 0.836, loss: 0.473 (data_loss: 0.473, reg_loss: 0.000000), lr: 0.0009852216748768474\n",
      "step: 400, acc: 0.844, loss: 0.475 (data_loss: 0.475, reg_loss: 0.000000), lr: 0.000980392156862745\n",
      "step: 468, acc: 0.875, loss: 0.372 (data_loss: 0.372, reg_loss: 0.000000), lr: 0.0009771350400625367\n",
      "epoch: 2\n",
      "step: 0, acc: 0.836, loss: 0.505 (data_loss: 0.505, reg_loss: 0.000000), lr: 0.0009770873027505008\n",
      "step: 100, acc: 0.828, loss: 0.484 (data_loss: 0.484, reg_loss: 0.000000), lr: 0.000972337012008362\n",
      "step: 200, acc: 0.938, loss: 0.245 (data_loss: 0.245, reg_loss: 0.000000), lr: 0.0009676326866321544\n",
      "step: 300, acc: 0.883, loss: 0.387 (data_loss: 0.387, reg_loss: 0.000000), lr: 0.0009629736626703259\n",
      "step: 400, acc: 0.867, loss: 0.435 (data_loss: 0.435, reg_loss: 0.000000), lr: 0.0009583592888974076\n",
      "step: 468, acc: 0.906, loss: 0.316 (data_loss: 0.316, reg_loss: 0.000000), lr: 0.0009552466924583273\n",
      "epoch: 3\n",
      "step: 0, acc: 0.867, loss: 0.421 (data_loss: 0.421, reg_loss: 0.000000), lr: 0.0009552010698251983\n",
      "step: 100, acc: 0.836, loss: 0.459 (data_loss: 0.459, reg_loss: 0.000000), lr: 0.0009506607091928891\n",
      "step: 200, acc: 0.922, loss: 0.205 (data_loss: 0.205, reg_loss: 0.000000), lr: 0.0009461633077869241\n",
      "step: 300, acc: 0.891, loss: 0.342 (data_loss: 0.342, reg_loss: 0.000000), lr: 0.0009417082587814295\n",
      "step: 400, acc: 0.883, loss: 0.391 (data_loss: 0.391, reg_loss: 0.000000), lr: 0.0009372949667260287\n",
      "step: 468, acc: 0.927, loss: 0.277 (data_loss: 0.277, reg_loss: 0.000000), lr: 0.000934317481080071\n",
      "epoch: 4\n",
      "step: 0, acc: 0.859, loss: 0.393 (data_loss: 0.393, reg_loss: 0.000000), lr: 0.0009342738356612324\n",
      "step: 100, acc: 0.844, loss: 0.429 (data_loss: 0.429, reg_loss: 0.000000), lr: 0.0009299297903008323\n",
      "step: 200, acc: 0.914, loss: 0.192 (data_loss: 0.192, reg_loss: 0.000000), lr: 0.0009256259545517657\n",
      "step: 300, acc: 0.875, loss: 0.319 (data_loss: 0.319, reg_loss: 0.000000), lr: 0.0009213617727000506\n",
      "step: 400, acc: 0.883, loss: 0.355 (data_loss: 0.355, reg_loss: 0.000000), lr: 0.0009171366992250195\n",
      "step: 468, acc: 0.906, loss: 0.252 (data_loss: 0.252, reg_loss: 0.000000), lr: 0.0009142857142857143\n",
      "epoch: 5\n",
      "step: 0, acc: 0.875, loss: 0.362 (data_loss: 0.362, reg_loss: 0.000000), lr: 0.0009142439202779302\n",
      "step: 100, acc: 0.836, loss: 0.419 (data_loss: 0.419, reg_loss: 0.000000), lr: 0.0009100837277029487\n",
      "step: 200, acc: 0.922, loss: 0.178 (data_loss: 0.178, reg_loss: 0.000000), lr: 0.0009059612248595759\n",
      "step: 300, acc: 0.891, loss: 0.291 (data_loss: 0.291, reg_loss: 0.000000), lr: 0.0009018759018759019\n",
      "step: 400, acc: 0.891, loss: 0.329 (data_loss: 0.329, reg_loss: 0.000000), lr: 0.0008978272580355541\n",
      "step: 468, acc: 0.906, loss: 0.236 (data_loss: 0.236, reg_loss: 0.000000), lr: 0.0008950948800572861\n",
      "training, acc: 0.886, loss: 0.312 (data_loss: 0.312, reg_loss: 0.000000), lr: 0.0008950948800572861\n",
      "Validation, acc: 0.873, loss: 0.360\n"
     ]
    }
   ],
   "source": [
    "#instantiate the model\n",
    "model = nnfs_module.Model()\n",
    "\n",
    "#add layers\n",
    "model.add(nnfs_module.Layer_Dense(X.shape[1], 64)) #dense layer 1 with 64 neurons\n",
    "model.add(nnfs_module.ReLU_Activation()) #ReLU used for activation\n",
    "model.add(nnfs_module.Layer_Dense(64,64)) #dense layer 2 with 64 neurons\n",
    "model.add(nnfs_module.ReLU_Activation())\n",
    "model.add(nnfs_module.Layer_Dense(64,10)) #dense layer 3 with 10 neurons\n",
    "model.add(nnfs_module.Activation_Softmax()) #output layer using Softmax for categorical classification\n",
    "\n",
    "#set loss, optimizer and accuracy objects\n",
    "model.set(\\\n",
    "         loss=nnfs_module.Loss_CategoricalCrossEntropy(),\\\n",
    "         optimizer=nnfs_module.Optimizer_Adam(decay=5e-5),\\\n",
    "         accuracy=nnfs_module.Accuracy_Categorical())\n",
    "\n",
    "#finalize the model\n",
    "model.finalize()\n",
    "\n",
    "#train the model\n",
    "model.train(X, y, validation_data=(X_test, y_test),\\\n",
    "           epochs=5, batch_size=128, print_every=100)\n",
    "\n"
   ]
  },
  {
   "cell_type": "code",
   "execution_count": 10,
   "id": "b6815108",
   "metadata": {},
   "outputs": [
    {
     "name": "stdout",
     "output_type": "stream",
     "text": [
      "epoch: 1\n",
      "step: 0, acc: 0.133, loss: 2.664 (data_loss: 2.664, reg_loss: 0.000000), lr: 0.001\n",
      "step: 100, acc: 0.766, loss: 0.571 (data_loss: 0.571, reg_loss: 0.000000), lr: 0.0009090909090909091\n",
      "step: 200, acc: 0.891, loss: 0.330 (data_loss: 0.330, reg_loss: 0.000000), lr: 0.0008333333333333334\n",
      "step: 300, acc: 0.844, loss: 0.413 (data_loss: 0.413, reg_loss: 0.000000), lr: 0.0007692307692307692\n",
      "step: 400, acc: 0.883, loss: 0.436 (data_loss: 0.436, reg_loss: 0.000000), lr: 0.0007142857142857143\n",
      "step: 468, acc: 0.885, loss: 0.354 (data_loss: 0.354, reg_loss: 0.000000), lr: 0.000681198910081744\n",
      "epoch: 2\n",
      "step: 0, acc: 0.852, loss: 0.478 (data_loss: 0.478, reg_loss: 0.000000), lr: 0.0006807351940095304\n",
      "step: 100, acc: 0.820, loss: 0.480 (data_loss: 0.480, reg_loss: 0.000000), lr: 0.0006373486297004461\n",
      "step: 200, acc: 0.930, loss: 0.244 (data_loss: 0.244, reg_loss: 0.000000), lr: 0.0005991611743559018\n",
      "step: 300, acc: 0.875, loss: 0.297 (data_loss: 0.297, reg_loss: 0.000000), lr: 0.0005652911249293386\n",
      "step: 400, acc: 0.867, loss: 0.370 (data_loss: 0.370, reg_loss: 0.000000), lr: 0.0005350454788657037\n",
      "step: 468, acc: 0.917, loss: 0.296 (data_loss: 0.296, reg_loss: 0.000000), lr: 0.0005162622612287042\n",
      "epoch: 3\n",
      "step: 0, acc: 0.867, loss: 0.415 (data_loss: 0.415, reg_loss: 0.000000), lr: 0.0005159958720330237\n",
      "step: 100, acc: 0.852, loss: 0.428 (data_loss: 0.428, reg_loss: 0.000000), lr: 0.0004906771344455348\n",
      "step: 200, acc: 0.930, loss: 0.207 (data_loss: 0.207, reg_loss: 0.000000), lr: 0.0004677268475210477\n",
      "step: 300, acc: 0.898, loss: 0.257 (data_loss: 0.257, reg_loss: 0.000000), lr: 0.00044682752457551384\n",
      "step: 400, acc: 0.883, loss: 0.340 (data_loss: 0.340, reg_loss: 0.000000), lr: 0.00042771599657827206\n",
      "step: 468, acc: 0.927, loss: 0.255 (data_loss: 0.255, reg_loss: 0.000000), lr: 0.0004156275976724854\n",
      "epoch: 4\n",
      "step: 0, acc: 0.867, loss: 0.389 (data_loss: 0.389, reg_loss: 0.000000), lr: 0.0004154549231408392\n",
      "step: 100, acc: 0.852, loss: 0.403 (data_loss: 0.403, reg_loss: 0.000000), lr: 0.00039888312724371757\n",
      "step: 200, acc: 0.945, loss: 0.189 (data_loss: 0.189, reg_loss: 0.000000), lr: 0.0003835826620636747\n",
      "step: 300, acc: 0.898, loss: 0.241 (data_loss: 0.241, reg_loss: 0.000000), lr: 0.0003694126339120798\n",
      "step: 400, acc: 0.891, loss: 0.325 (data_loss: 0.325, reg_loss: 0.000000), lr: 0.0003562522265764161\n",
      "step: 468, acc: 0.927, loss: 0.234 (data_loss: 0.234, reg_loss: 0.000000), lr: 0.00034782608695652176\n",
      "epoch: 5\n",
      "step: 0, acc: 0.891, loss: 0.348 (data_loss: 0.348, reg_loss: 0.000000), lr: 0.0003477051460361613\n",
      "step: 100, acc: 0.859, loss: 0.394 (data_loss: 0.394, reg_loss: 0.000000), lr: 0.00033602150537634406\n",
      "step: 200, acc: 0.930, loss: 0.177 (data_loss: 0.177, reg_loss: 0.000000), lr: 0.00032509752925877764\n",
      "step: 300, acc: 0.914, loss: 0.232 (data_loss: 0.232, reg_loss: 0.000000), lr: 0.00031486146095717883\n",
      "step: 400, acc: 0.898, loss: 0.317 (data_loss: 0.317, reg_loss: 0.000000), lr: 0.00030525030525030525\n",
      "step: 468, acc: 0.938, loss: 0.209 (data_loss: 0.209, reg_loss: 0.000000), lr: 0.0002990430622009569\n",
      "epoch: 6\n",
      "step: 0, acc: 0.891, loss: 0.327 (data_loss: 0.327, reg_loss: 0.000000), lr: 0.0002989536621823617\n",
      "step: 100, acc: 0.867, loss: 0.381 (data_loss: 0.381, reg_loss: 0.000000), lr: 0.00029027576197387516\n",
      "step: 200, acc: 0.938, loss: 0.170 (data_loss: 0.170, reg_loss: 0.000000), lr: 0.0002820874471086037\n",
      "step: 300, acc: 0.922, loss: 0.222 (data_loss: 0.222, reg_loss: 0.000000), lr: 0.00027434842249657066\n",
      "step: 400, acc: 0.891, loss: 0.302 (data_loss: 0.302, reg_loss: 0.000000), lr: 0.000267022696929239\n",
      "step: 468, acc: 0.938, loss: 0.194 (data_loss: 0.194, reg_loss: 0.000000), lr: 0.00026226068712300026\n",
      "epoch: 7\n",
      "step: 0, acc: 0.898, loss: 0.302 (data_loss: 0.302, reg_loss: 0.000000), lr: 0.00026219192448872575\n",
      "step: 100, acc: 0.867, loss: 0.368 (data_loss: 0.368, reg_loss: 0.000000), lr: 0.00025549310168625444\n",
      "step: 200, acc: 0.953, loss: 0.164 (data_loss: 0.164, reg_loss: 0.000000), lr: 0.00024912805181863477\n",
      "step: 300, acc: 0.922, loss: 0.216 (data_loss: 0.216, reg_loss: 0.000000), lr: 0.0002430724355858046\n",
      "step: 400, acc: 0.891, loss: 0.290 (data_loss: 0.290, reg_loss: 0.000000), lr: 0.00023730422401518745\n",
      "step: 468, acc: 0.948, loss: 0.186 (data_loss: 0.186, reg_loss: 0.000000), lr: 0.00023353573096683791\n",
      "epoch: 8\n",
      "step: 0, acc: 0.906, loss: 0.283 (data_loss: 0.283, reg_loss: 0.000000), lr: 0.00023348120476301658\n",
      "step: 100, acc: 0.867, loss: 0.358 (data_loss: 0.358, reg_loss: 0.000000), lr: 0.00022815423226100847\n",
      "step: 200, acc: 0.938, loss: 0.162 (data_loss: 0.162, reg_loss: 0.000000), lr: 0.0002230649118893598\n",
      "step: 300, acc: 0.922, loss: 0.209 (data_loss: 0.209, reg_loss: 0.000000), lr: 0.00021819768710451667\n",
      "step: 400, acc: 0.891, loss: 0.277 (data_loss: 0.277, reg_loss: 0.000000), lr: 0.00021353833013025838\n",
      "step: 468, acc: 0.948, loss: 0.178 (data_loss: 0.178, reg_loss: 0.000000), lr: 0.00021048200378867611\n",
      "epoch: 9\n",
      "step: 0, acc: 0.914, loss: 0.268 (data_loss: 0.268, reg_loss: 0.000000), lr: 0.0002104377104377104\n",
      "step: 100, acc: 0.875, loss: 0.346 (data_loss: 0.346, reg_loss: 0.000000), lr: 0.0002061005770816158\n",
      "step: 200, acc: 0.945, loss: 0.158 (data_loss: 0.158, reg_loss: 0.000000), lr: 0.00020193861066235866\n",
      "step: 300, acc: 0.922, loss: 0.203 (data_loss: 0.203, reg_loss: 0.000000), lr: 0.0001979414093428345\n",
      "step: 400, acc: 0.898, loss: 0.269 (data_loss: 0.269, reg_loss: 0.000000), lr: 0.0001940993788819876\n",
      "step: 468, acc: 0.948, loss: 0.171 (data_loss: 0.171, reg_loss: 0.000000), lr: 0.00019157088122605365\n",
      "epoch: 10\n",
      "step: 0, acc: 0.930, loss: 0.256 (data_loss: 0.256, reg_loss: 0.000000), lr: 0.0001915341888527102\n",
      "step: 100, acc: 0.875, loss: 0.333 (data_loss: 0.333, reg_loss: 0.000000), lr: 0.00018793459875963167\n",
      "step: 200, acc: 0.945, loss: 0.155 (data_loss: 0.155, reg_loss: 0.000000), lr: 0.00018446781036709093\n",
      "step: 300, acc: 0.930, loss: 0.198 (data_loss: 0.198, reg_loss: 0.000000), lr: 0.00018112660749864155\n",
      "step: 400, acc: 0.906, loss: 0.259 (data_loss: 0.259, reg_loss: 0.000000), lr: 0.00017790428749332856\n",
      "step: 468, acc: 0.948, loss: 0.166 (data_loss: 0.166, reg_loss: 0.000000), lr: 0.00017577781683951485\n",
      "training, acc: 0.915, loss: 0.237 (data_loss: 0.237, reg_loss: 0.000000), lr: 0.00017577781683951485\n",
      "Validation, acc: 0.879, loss: 0.337\n"
     ]
    }
   ],
   "source": [
    "#instantiate the model\n",
    "model = nnfs_module.Model()\n",
    "\n",
    "#add layers\n",
    "model.add(nnfs_module.Layer_Dense(X.shape[1], 128)) #dense layer 1 with 128 neurons\n",
    "model.add(nnfs_module.ReLU_Activation()) #ReLU used for activation\n",
    "model.add(nnfs_module.Layer_Dense(128,128)) #dense layer 2 with 128 neurons\n",
    "model.add(nnfs_module.ReLU_Activation())\n",
    "model.add(nnfs_module.Layer_Dense(128,10)) #dense layer 3 with 10 neurons\n",
    "model.add(nnfs_module.Activation_Softmax()) #output layer using Softmax for categorical classification\n",
    "\n",
    "#set loss, optimizer and accuracy objects\n",
    "model.set(\\\n",
    "         loss=nnfs_module.Loss_CategoricalCrossEntropy(),\\\n",
    "         optimizer=nnfs_module.Optimizer_Adam(decay=1e-3),\\\n",
    "         accuracy=nnfs_module.Accuracy_Categorical())\n",
    "\n",
    "#finalize the model\n",
    "model.finalize()\n",
    "\n",
    "#train the model\n",
    "model.train(X, y, validation_data=(X_test, y_test),\\\n",
    "           epochs=10, batch_size=128, print_every=100)"
   ]
  },
  {
   "cell_type": "code",
   "execution_count": 11,
   "id": "15f0070f",
   "metadata": {},
   "outputs": [
    {
     "name": "stdout",
     "output_type": "stream",
     "text": [
      "Validation, acc: 0.879, loss: 0.337\n"
     ]
    }
   ],
   "source": [
    "model.evaluate(X_test, y_test)"
   ]
  },
  {
   "cell_type": "markdown",
   "id": "b61ac0db",
   "metadata": {},
   "source": [
    "## Model training with parameter copying functionality"
   ]
  },
  {
   "cell_type": "code",
   "execution_count": 12,
   "id": "5b30d3a7",
   "metadata": {},
   "outputs": [
    {
     "name": "stdout",
     "output_type": "stream",
     "text": [
      "epoch: 1\n",
      "step: 0, acc: 0.070, loss: 2.848 (data_loss: 2.848, reg_loss: 0.000000), lr: 0.001\n",
      "step: 100, acc: 0.758, loss: 0.571 (data_loss: 0.571, reg_loss: 0.000000), lr: 0.0009090909090909091\n",
      "step: 200, acc: 0.891, loss: 0.336 (data_loss: 0.336, reg_loss: 0.000000), lr: 0.0008333333333333334\n",
      "step: 300, acc: 0.852, loss: 0.444 (data_loss: 0.444, reg_loss: 0.000000), lr: 0.0007692307692307692\n",
      "step: 400, acc: 0.844, loss: 0.506 (data_loss: 0.506, reg_loss: 0.000000), lr: 0.0007142857142857143\n",
      "step: 468, acc: 0.885, loss: 0.404 (data_loss: 0.404, reg_loss: 0.000000), lr: 0.000681198910081744\n",
      "epoch: 2\n",
      "step: 0, acc: 0.852, loss: 0.454 (data_loss: 0.454, reg_loss: 0.000000), lr: 0.0006807351940095304\n",
      "step: 100, acc: 0.828, loss: 0.457 (data_loss: 0.457, reg_loss: 0.000000), lr: 0.0006373486297004461\n",
      "step: 200, acc: 0.930, loss: 0.239 (data_loss: 0.239, reg_loss: 0.000000), lr: 0.0005991611743559018\n",
      "step: 300, acc: 0.875, loss: 0.343 (data_loss: 0.343, reg_loss: 0.000000), lr: 0.0005652911249293386\n",
      "step: 400, acc: 0.859, loss: 0.406 (data_loss: 0.406, reg_loss: 0.000000), lr: 0.0005350454788657037\n",
      "step: 468, acc: 0.885, loss: 0.322 (data_loss: 0.322, reg_loss: 0.000000), lr: 0.0005162622612287042\n",
      "epoch: 3\n",
      "step: 0, acc: 0.883, loss: 0.387 (data_loss: 0.387, reg_loss: 0.000000), lr: 0.0005159958720330237\n",
      "step: 100, acc: 0.867, loss: 0.405 (data_loss: 0.405, reg_loss: 0.000000), lr: 0.0004906771344455348\n",
      "step: 200, acc: 0.914, loss: 0.201 (data_loss: 0.201, reg_loss: 0.000000), lr: 0.0004677268475210477\n",
      "step: 300, acc: 0.898, loss: 0.281 (data_loss: 0.281, reg_loss: 0.000000), lr: 0.00044682752457551384\n",
      "step: 400, acc: 0.898, loss: 0.359 (data_loss: 0.359, reg_loss: 0.000000), lr: 0.00042771599657827206\n",
      "step: 468, acc: 0.917, loss: 0.271 (data_loss: 0.271, reg_loss: 0.000000), lr: 0.0004156275976724854\n",
      "epoch: 4\n",
      "step: 0, acc: 0.891, loss: 0.362 (data_loss: 0.362, reg_loss: 0.000000), lr: 0.0004154549231408392\n",
      "step: 100, acc: 0.867, loss: 0.374 (data_loss: 0.374, reg_loss: 0.000000), lr: 0.00039888312724371757\n",
      "step: 200, acc: 0.930, loss: 0.185 (data_loss: 0.185, reg_loss: 0.000000), lr: 0.0003835826620636747\n",
      "step: 300, acc: 0.898, loss: 0.262 (data_loss: 0.262, reg_loss: 0.000000), lr: 0.0003694126339120798\n",
      "step: 400, acc: 0.898, loss: 0.333 (data_loss: 0.333, reg_loss: 0.000000), lr: 0.0003562522265764161\n",
      "step: 468, acc: 0.917, loss: 0.236 (data_loss: 0.236, reg_loss: 0.000000), lr: 0.00034782608695652176\n",
      "epoch: 5\n",
      "step: 0, acc: 0.891, loss: 0.342 (data_loss: 0.342, reg_loss: 0.000000), lr: 0.0003477051460361613\n",
      "step: 100, acc: 0.875, loss: 0.366 (data_loss: 0.366, reg_loss: 0.000000), lr: 0.00033602150537634406\n",
      "step: 200, acc: 0.930, loss: 0.174 (data_loss: 0.174, reg_loss: 0.000000), lr: 0.00032509752925877764\n",
      "step: 300, acc: 0.898, loss: 0.251 (data_loss: 0.251, reg_loss: 0.000000), lr: 0.00031486146095717883\n",
      "step: 400, acc: 0.906, loss: 0.314 (data_loss: 0.314, reg_loss: 0.000000), lr: 0.00030525030525030525\n",
      "step: 468, acc: 0.938, loss: 0.214 (data_loss: 0.214, reg_loss: 0.000000), lr: 0.0002990430622009569\n",
      "epoch: 6\n",
      "step: 0, acc: 0.891, loss: 0.326 (data_loss: 0.326, reg_loss: 0.000000), lr: 0.0002989536621823617\n",
      "step: 100, acc: 0.891, loss: 0.348 (data_loss: 0.348, reg_loss: 0.000000), lr: 0.00029027576197387516\n",
      "step: 200, acc: 0.930, loss: 0.170 (data_loss: 0.170, reg_loss: 0.000000), lr: 0.0002820874471086037\n",
      "step: 300, acc: 0.906, loss: 0.240 (data_loss: 0.240, reg_loss: 0.000000), lr: 0.00027434842249657066\n",
      "step: 400, acc: 0.898, loss: 0.302 (data_loss: 0.302, reg_loss: 0.000000), lr: 0.000267022696929239\n",
      "step: 468, acc: 0.938, loss: 0.194 (data_loss: 0.194, reg_loss: 0.000000), lr: 0.00026226068712300026\n",
      "epoch: 7\n",
      "step: 0, acc: 0.898, loss: 0.312 (data_loss: 0.312, reg_loss: 0.000000), lr: 0.00026219192448872575\n",
      "step: 100, acc: 0.891, loss: 0.335 (data_loss: 0.335, reg_loss: 0.000000), lr: 0.00025549310168625444\n",
      "step: 200, acc: 0.938, loss: 0.168 (data_loss: 0.168, reg_loss: 0.000000), lr: 0.00024912805181863477\n",
      "step: 300, acc: 0.914, loss: 0.231 (data_loss: 0.231, reg_loss: 0.000000), lr: 0.0002430724355858046\n",
      "step: 400, acc: 0.898, loss: 0.293 (data_loss: 0.293, reg_loss: 0.000000), lr: 0.00023730422401518745\n",
      "step: 468, acc: 0.938, loss: 0.180 (data_loss: 0.180, reg_loss: 0.000000), lr: 0.00023353573096683791\n",
      "epoch: 8\n",
      "step: 0, acc: 0.898, loss: 0.299 (data_loss: 0.299, reg_loss: 0.000000), lr: 0.00023348120476301658\n",
      "step: 100, acc: 0.891, loss: 0.321 (data_loss: 0.321, reg_loss: 0.000000), lr: 0.00022815423226100847\n",
      "step: 200, acc: 0.938, loss: 0.165 (data_loss: 0.165, reg_loss: 0.000000), lr: 0.0002230649118893598\n",
      "step: 300, acc: 0.914, loss: 0.229 (data_loss: 0.229, reg_loss: 0.000000), lr: 0.00021819768710451667\n",
      "step: 400, acc: 0.906, loss: 0.282 (data_loss: 0.282, reg_loss: 0.000000), lr: 0.00021353833013025838\n",
      "step: 468, acc: 0.938, loss: 0.171 (data_loss: 0.171, reg_loss: 0.000000), lr: 0.00021048200378867611\n",
      "epoch: 9\n",
      "step: 0, acc: 0.922, loss: 0.289 (data_loss: 0.289, reg_loss: 0.000000), lr: 0.0002104377104377104\n",
      "step: 100, acc: 0.891, loss: 0.309 (data_loss: 0.309, reg_loss: 0.000000), lr: 0.0002061005770816158\n",
      "step: 200, acc: 0.930, loss: 0.164 (data_loss: 0.164, reg_loss: 0.000000), lr: 0.00020193861066235866\n",
      "step: 300, acc: 0.914, loss: 0.225 (data_loss: 0.225, reg_loss: 0.000000), lr: 0.0001979414093428345\n",
      "step: 400, acc: 0.906, loss: 0.273 (data_loss: 0.273, reg_loss: 0.000000), lr: 0.0001940993788819876\n",
      "step: 468, acc: 0.938, loss: 0.160 (data_loss: 0.160, reg_loss: 0.000000), lr: 0.00019157088122605365\n",
      "epoch: 10\n",
      "step: 0, acc: 0.914, loss: 0.280 (data_loss: 0.280, reg_loss: 0.000000), lr: 0.0001915341888527102\n",
      "step: 100, acc: 0.898, loss: 0.300 (data_loss: 0.300, reg_loss: 0.000000), lr: 0.00018793459875963167\n",
      "step: 200, acc: 0.930, loss: 0.161 (data_loss: 0.161, reg_loss: 0.000000), lr: 0.00018446781036709093\n",
      "step: 300, acc: 0.922, loss: 0.220 (data_loss: 0.220, reg_loss: 0.000000), lr: 0.00018112660749864155\n",
      "step: 400, acc: 0.914, loss: 0.262 (data_loss: 0.262, reg_loss: 0.000000), lr: 0.00017790428749332856\n",
      "step: 468, acc: 0.938, loss: 0.150 (data_loss: 0.150, reg_loss: 0.000000), lr: 0.00017577781683951485\n",
      "training, acc: 0.914, loss: 0.239 (data_loss: 0.239, reg_loss: 0.000000), lr: 0.00017577781683951485\n",
      "Validation, acc: 0.880, loss: 0.340\n",
      "Validation, acc: 0.880, loss: 0.340\n"
     ]
    }
   ],
   "source": [
    "#instantiate the model\n",
    "model = nnfs_module.Model()\n",
    "\n",
    "#add layers\n",
    "model.add(nnfs_module.Layer_Dense(X.shape[1], 128)) #dense layer 1 with 128 neurons\n",
    "model.add(nnfs_module.ReLU_Activation()) #ReLU used for activation\n",
    "model.add(nnfs_module.Layer_Dense(128,128)) #dense layer 2 with 128 neurons\n",
    "model.add(nnfs_module.ReLU_Activation())\n",
    "model.add(nnfs_module.Layer_Dense(128,10)) #dense layer 3 with 10 neurons\n",
    "model.add(nnfs_module.Activation_Softmax()) #output layer using Softmax for categorical classification\n",
    "\n",
    "#set loss, optimizer and accuracy objects\n",
    "model.set(\\\n",
    "         loss=nnfs_module.Loss_CategoricalCrossEntropy(),\\\n",
    "         optimizer=nnfs_module.Optimizer_Adam(decay=1e-3),\\\n",
    "         accuracy=nnfs_module.Accuracy_Categorical())\n",
    "\n",
    "#finalize the model\n",
    "model.finalize()\n",
    "\n",
    "#train the model\n",
    "model.train(X, y, validation_data=(X_test, y_test),\\\n",
    "           epochs=10, batch_size=128, print_every=100)\n",
    "\n",
    "parameters = model.get_parameters()\n",
    "\n",
    "#New model\n",
    "#instantiate the model\n",
    "model = nnfs_module.Model()\n",
    "\n",
    "#add layers\n",
    "model.add(nnfs_module.Layer_Dense(X.shape[1], 128)) #dense layer 1 with 128 neurons\n",
    "model.add(nnfs_module.ReLU_Activation()) #ReLU used for activation\n",
    "model.add(nnfs_module.Layer_Dense(128,128)) #dense layer 2 with 128 neurons\n",
    "model.add(nnfs_module.ReLU_Activation())\n",
    "model.add(nnfs_module.Layer_Dense(128,10)) #dense layer 3 with 10 neurons\n",
    "model.add(nnfs_module.Activation_Softmax()) #output layer using Softmax for categorical classification\n",
    "\n",
    "#set loss, optimizer and accuracy objects\n",
    "model.set(\\\n",
    "         loss=nnfs_module.Loss_CategoricalCrossEntropy(),\\\n",
    "         accuracy=nnfs_module.Accuracy_Categorical())\n",
    "\n",
    "#finalize the model\n",
    "model.finalize()\n",
    "\n",
    "#set model with parameter instead of training it\n",
    "model.set_parameters(parameters)\n",
    "\n",
    "#evaluate the model\n",
    "model.evaluate(X_test, y_test)"
   ]
  }
 ],
 "metadata": {
  "kernelspec": {
   "display_name": "Python 3 (ipykernel)",
   "language": "python",
   "name": "python3"
  },
  "language_info": {
   "codemirror_mode": {
    "name": "ipython",
    "version": 3
   },
   "file_extension": ".py",
   "mimetype": "text/x-python",
   "name": "python",
   "nbconvert_exporter": "python",
   "pygments_lexer": "ipython3",
   "version": "3.7.11"
  }
 },
 "nbformat": 4,
 "nbformat_minor": 5
}
