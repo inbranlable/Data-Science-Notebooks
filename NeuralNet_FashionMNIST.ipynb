{
 "cells": [
  {
   "cell_type": "code",
   "execution_count": 1,
   "id": "b1e6244d",
   "metadata": {},
   "outputs": [],
   "source": [
    "%matplotlib inline\n",
    "import import_ipynb\n",
    "import NeuralNet_FromScratch as nnfs_module\n",
    "import pandas as pd\n",
    "import numpy as np\n",
    "import matplotlib.pyplot as plt\n",
    "import seaborn as sns\n",
    "from matplotlib import style\n",
    "from nnfs.datasets import spiral_data\n",
    "from nnfs.datasets import sine_data\n",
    "from zipfile import ZipFile\n",
    "import nnfs\n",
    "import os\n",
    "import urllib\n",
    "import urllib.request\n",
    "import cv2\n",
    "\n",
    "style.use(\"dark_background\")"
   ]
  },
  {
   "cell_type": "markdown",
   "id": "afef6b27",
   "metadata": {},
   "source": [
    "# Retreive Dataset"
   ]
  },
  {
   "cell_type": "code",
   "execution_count": 2,
   "id": "07050469",
   "metadata": {},
   "outputs": [
    {
     "name": "stdout",
     "output_type": "stream",
     "text": [
      "Date preparation is complete.\n"
     ]
    }
   ],
   "source": [
    "URL = 'https://nnfs.io/datasets/fashion_mnist_images.zip'\n",
    "FILE = 'fashion_mnist_images.zip'\n",
    "FOLDER = 'fashion_mnist_images'\n",
    "\n",
    "if not os.path.isfile(FILE):\n",
    "    print(f'Downloading {URL} and saving as {FILE}...')\n",
    "    urllib.request.urlretrieve(URL, FILE)\n",
    "\n",
    "if not os.path.isdir(FOLDER):\n",
    "    print(\"Unzipping images ...\")\n",
    "    with ZipFile(FILE) as zip_images:\n",
    "        zip_images.extractall(FOLDER)\n",
    "    print('DONE')\n",
    "    \n",
    "print(\"Date preparation is complete.\")"
   ]
  },
  {
   "cell_type": "markdown",
   "id": "079414a9",
   "metadata": {},
   "source": [
    "# Fashion MNIST Classifications\n",
    "0: T-shirt / top\n",
    "\n",
    "1: Trouser\n",
    "\n",
    "2: Pullover\n",
    "\n",
    "3: Dress\n",
    "\n",
    "4: Coat\n",
    "\n",
    "5: Sandal\n",
    "\n",
    "6: Shirt\n",
    "\n",
    "7: Sneaker\n",
    "\n",
    "8: Bag\n",
    "\n",
    "9: Ankle Boot"
   ]
  },
  {
   "cell_type": "code",
   "execution_count": 3,
   "id": "af772def",
   "metadata": {},
   "outputs": [],
   "source": [
    "fashion_mnist_labels = {\n",
    "    0:'T-shirt / top',\n",
    "    1:'Trouser',\n",
    "    2:'Pullover',\n",
    "    3:'Dress',\n",
    "    4:'Coat',\n",
    "    5:'Sandal',\n",
    "    6:'Shirt',\n",
    "    7:'Sneaker',\n",
    "    8:'Bag',\n",
    "    9:'Ankle Boot'\n",
    "}"
   ]
  },
  {
   "cell_type": "markdown",
   "id": "df978819",
   "metadata": {},
   "source": [
    "# Data Loading Function"
   ]
  },
  {
   "cell_type": "code",
   "execution_count": 4,
   "id": "95fe8920",
   "metadata": {},
   "outputs": [],
   "source": [
    "def load_mnist_dataset(dataset, path):\n",
    "    \n",
    "    #scan all directories and create list of labels\n",
    "    labels = os.listdir(os.path.join(path, dataset))\n",
    "    \n",
    "    #create lists for samples and labels\n",
    "    X = []\n",
    "    y = []\n",
    "    \n",
    "    #for each label folder\n",
    "    for label in labels:\n",
    "        #for each image in the given folder\n",
    "        for file in os.listdir(os.path.join(path, dataset, label)):\n",
    "            #read the image\n",
    "            image = cv2.imread(os.path.join(\\\n",
    "                                path, dataset, label, file),\\\n",
    "                               cv2.IMREAD_UNCHANGED)\n",
    "            \n",
    "            #append image to x and label to y\n",
    "            X.append(image)\n",
    "            y.append(label)\n",
    "            \n",
    "    #convert data structure to numpy arrays and return\n",
    "    return np.array(X), np.array(y).astype('uint8')"
   ]
  },
  {
   "cell_type": "markdown",
   "id": "1abccd25",
   "metadata": {},
   "source": [
    "# Create MNIST Train & Test Datasets"
   ]
  },
  {
   "cell_type": "code",
   "execution_count": 5,
   "id": "bfa603b6",
   "metadata": {},
   "outputs": [],
   "source": [
    "def create_data_mnist(path):\n",
    "    \n",
    "    #load both sets\n",
    "    X, y = load_mnist_dataset('train', path)\n",
    "    X_test, y_test = load_mnist_dataset('test', path)\n",
    "    \n",
    "    #return all datasets\n",
    "    return X, y, X_test, y_test"
   ]
  },
  {
   "cell_type": "markdown",
   "id": "b1bd8149",
   "metadata": {},
   "source": [
    "# Generate Train and Test Sets"
   ]
  },
  {
   "cell_type": "code",
   "execution_count": 6,
   "id": "f079590f",
   "metadata": {},
   "outputs": [
    {
     "name": "stdout",
     "output_type": "stream",
     "text": [
      "60000\n",
      "60000\n",
      "10000\n",
      "10000\n"
     ]
    }
   ],
   "source": [
    "X, y, X_test, y_test = create_data_mnist(FOLDER)\n",
    "print(len(X))\n",
    "print(len(y))\n",
    "print(len(X_test))\n",
    "print(len(y_test))"
   ]
  },
  {
   "cell_type": "markdown",
   "id": "3f6c3d4f",
   "metadata": {},
   "source": [
    "# Data Preprocessing"
   ]
  },
  {
   "cell_type": "markdown",
   "id": "79039775",
   "metadata": {},
   "source": [
    "## Scale features\n",
    "range from -1 to 1"
   ]
  },
  {
   "cell_type": "code",
   "execution_count": 7,
   "id": "7224c820",
   "metadata": {},
   "outputs": [
    {
     "name": "stdout",
     "output_type": "stream",
     "text": [
      "-1.0 1.0\n",
      "(60000, 28, 28)\n"
     ]
    }
   ],
   "source": [
    "X = (X.astype(np.float32) - 127.5) / 127.5\n",
    "X_test = (X_test.astype(np.float32) - 127.5) / 127.5\n",
    "\n",
    "print(X.min(), X.max())\n",
    "print(X.shape)"
   ]
  },
  {
   "cell_type": "markdown",
   "id": "5e413d27",
   "metadata": {},
   "source": [
    "## Reshape Data\n",
    "From 3D to 2D"
   ]
  },
  {
   "cell_type": "code",
   "execution_count": 8,
   "id": "a6b998c0",
   "metadata": {},
   "outputs": [
    {
     "name": "stdout",
     "output_type": "stream",
     "text": [
      "(60000, 784)\n",
      "(10000, 784)\n"
     ]
    }
   ],
   "source": [
    "X = X.reshape(X.shape[0], -1)\n",
    "X_test = X_test.reshape(X_test.shape[0], -1)\n",
    "\n",
    "print(X.shape)\n",
    "print(X_test.shape)"
   ]
  },
  {
   "cell_type": "markdown",
   "id": "0485d225",
   "metadata": {},
   "source": [
    "## Shuffle Samples"
   ]
  },
  {
   "cell_type": "code",
   "execution_count": 9,
   "id": "47b56be7",
   "metadata": {},
   "outputs": [
    {
     "data": {
      "image/png": "[encoded data removed]",
      "text/plain": [
       "<Figure size 640x480 with 1 Axes>"
      ]
     },
     "metadata": {},
     "output_type": "display_data"
    },
    {
     "name": "stdout",
     "output_type": "stream",
     "text": [
      "6\n"
     ]
    },
    {
     "data": {
      "image/png": "[encoded data removed]",
      "text/plain": [
       "<Figure size 640x480 with 1 Axes>"
      ]
     },
     "metadata": {},
     "output_type": "display_data"
    },
    {
     "name": "stdout",
     "output_type": "stream",
     "text": [
      "4\n"
     ]
    }
   ],
   "source": [
    "keys = np.array(range(X.shape[0])) #number of indices in samples\n",
    "np.random.shuffle(keys) #shuffle indices\n",
    "\n",
    "#grab by indice and assign to array\n",
    "X = X[keys]\n",
    "y = y[keys]\n",
    "\n",
    "#test shuffling\n",
    "plt.imshow(X[8].reshape(28,28), cmap='gray') #reshape back to a matrix for veiwing\n",
    "plt.show()\n",
    "print(y[8])\n",
    "\n",
    "plt.imshow(X[999].reshape(28,28), cmap='gray') #reshape back to a matrix for veiwing\n",
    "plt.show()\n",
    "print(y[999])"
   ]
  },
  {
   "cell_type": "markdown",
   "id": "d6e7e9f0",
   "metadata": {},
   "source": [
    "# Training"
   ]
  },
  {
   "cell_type": "code",
   "execution_count": 10,
   "id": "b092134c",
   "metadata": {},
   "outputs": [
    {
     "name": "stdout",
     "output_type": "stream",
     "text": [
      "epoch: 1\n",
      "step: 0, acc: 0.062, loss: 2.407 (data_loss: 2.407, reg_loss: 0.000000), lr: 0.001\n",
      "step: 100, acc: 0.758, loss: 0.640 (data_loss: 0.640, reg_loss: 0.000000), lr: 0.0009950248756218907\n",
      "step: 200, acc: 0.805, loss: 0.542 (data_loss: 0.542, reg_loss: 0.000000), lr: 0.0009900990099009901\n",
      "step: 300, acc: 0.797, loss: 0.512 (data_loss: 0.512, reg_loss: 0.000000), lr: 0.0009852216748768474\n",
      "step: 400, acc: 0.852, loss: 0.419 (data_loss: 0.419, reg_loss: 0.000000), lr: 0.000980392156862745\n",
      "step: 468, acc: 0.812, loss: 0.414 (data_loss: 0.414, reg_loss: 0.000000), lr: 0.0009771350400625367\n",
      "epoch: 2\n",
      "step: 0, acc: 0.883, loss: 0.394 (data_loss: 0.394, reg_loss: 0.000000), lr: 0.0009770873027505008\n",
      "step: 100, acc: 0.852, loss: 0.434 (data_loss: 0.434, reg_loss: 0.000000), lr: 0.000972337012008362\n",
      "step: 200, acc: 0.852, loss: 0.426 (data_loss: 0.426, reg_loss: 0.000000), lr: 0.0009676326866321544\n",
      "step: 300, acc: 0.820, loss: 0.421 (data_loss: 0.421, reg_loss: 0.000000), lr: 0.0009629736626703259\n",
      "step: 400, acc: 0.859, loss: 0.381 (data_loss: 0.381, reg_loss: 0.000000), lr: 0.0009583592888974076\n",
      "step: 468, acc: 0.844, loss: 0.366 (data_loss: 0.366, reg_loss: 0.000000), lr: 0.0009552466924583273\n",
      "epoch: 3\n",
      "step: 0, acc: 0.867, loss: 0.364 (data_loss: 0.364, reg_loss: 0.000000), lr: 0.0009552010698251983\n",
      "step: 100, acc: 0.875, loss: 0.361 (data_loss: 0.361, reg_loss: 0.000000), lr: 0.0009506607091928891\n",
      "step: 200, acc: 0.867, loss: 0.379 (data_loss: 0.379, reg_loss: 0.000000), lr: 0.0009461633077869241\n",
      "step: 300, acc: 0.852, loss: 0.406 (data_loss: 0.406, reg_loss: 0.000000), lr: 0.0009417082587814295\n",
      "step: 400, acc: 0.883, loss: 0.364 (data_loss: 0.364, reg_loss: 0.000000), lr: 0.0009372949667260287\n",
      "step: 468, acc: 0.865, loss: 0.338 (data_loss: 0.338, reg_loss: 0.000000), lr: 0.000934317481080071\n",
      "epoch: 4\n",
      "step: 0, acc: 0.867, loss: 0.345 (data_loss: 0.345, reg_loss: 0.000000), lr: 0.0009342738356612324\n",
      "step: 100, acc: 0.875, loss: 0.332 (data_loss: 0.332, reg_loss: 0.000000), lr: 0.0009299297903008323\n",
      "step: 200, acc: 0.859, loss: 0.368 (data_loss: 0.368, reg_loss: 0.000000), lr: 0.0009256259545517657\n",
      "step: 300, acc: 0.852, loss: 0.384 (data_loss: 0.384, reg_loss: 0.000000), lr: 0.0009213617727000506\n",
      "step: 400, acc: 0.875, loss: 0.356 (data_loss: 0.356, reg_loss: 0.000000), lr: 0.0009171366992250195\n",
      "step: 468, acc: 0.875, loss: 0.325 (data_loss: 0.325, reg_loss: 0.000000), lr: 0.0009142857142857143\n",
      "epoch: 5\n",
      "step: 0, acc: 0.883, loss: 0.337 (data_loss: 0.337, reg_loss: 0.000000), lr: 0.0009142439202779302\n",
      "step: 100, acc: 0.875, loss: 0.319 (data_loss: 0.319, reg_loss: 0.000000), lr: 0.0009100837277029487\n",
      "step: 200, acc: 0.867, loss: 0.349 (data_loss: 0.349, reg_loss: 0.000000), lr: 0.0009059612248595759\n",
      "step: 300, acc: 0.867, loss: 0.361 (data_loss: 0.361, reg_loss: 0.000000), lr: 0.0009018759018759019\n",
      "step: 400, acc: 0.875, loss: 0.343 (data_loss: 0.343, reg_loss: 0.000000), lr: 0.0008978272580355541\n",
      "step: 468, acc: 0.885, loss: 0.308 (data_loss: 0.308, reg_loss: 0.000000), lr: 0.0008950948800572861\n",
      "training, acc: 0.886, loss: 0.312 (data_loss: 0.312, reg_loss: 0.000000), lr: 0.0008950948800572861\n",
      "Validation, acc: 0.860, loss: 0.398\n"
     ]
    }
   ],
   "source": [
    "#instantiate the model\n",
    "model = nnfs_module.Model()\n",
    "\n",
    "#add layers\n",
    "model.add(nnfs_module.Layer_Dense(X.shape[1], 64)) #dense layer 1 with 64 neurons\n",
    "model.add(nnfs_module.ReLU_Activation()) #ReLU used for activation\n",
    "model.add(nnfs_module.Layer_Dense(64,64)) #dense layer 2 with 64 neurons\n",
    "model.add(nnfs_module.ReLU_Activation())\n",
    "model.add(nnfs_module.Layer_Dense(64,10)) #dense layer 3 with 10 neurons\n",
    "model.add(nnfs_module.Activation_Softmax()) #output layer using Softmax for categorical classification\n",
    "\n",
    "#set loss, optimizer and accuracy objects\n",
    "model.set(\\\n",
    "         loss=nnfs_module.Loss_CategoricalCrossEntropy(),\\\n",
    "         optimizer=nnfs_module.Optimizer_Adam(decay=5e-5),\\\n",
    "         accuracy=nnfs_module.Accuracy_Categorical())\n",
    "\n",
    "#finalize the model\n",
    "model.finalize()\n",
    "\n",
    "#train the model\n",
    "model.train(X, y, validation_data=(X_test, y_test),\\\n",
    "           epochs=5, batch_size=128, print_every=100)\n",
    "\n"
   ]
  },
  {
   "cell_type": "code",
   "execution_count": 11,
   "id": "b6815108",
   "metadata": {},
   "outputs": [
    {
     "name": "stdout",
     "output_type": "stream",
     "text": [
      "epoch: 1\n",
      "step: 0, acc: 0.195, loss: 2.905 (data_loss: 2.905, reg_loss: 0.000000), lr: 0.001\n",
      "step: 100, acc: 0.766, loss: 0.593 (data_loss: 0.593, reg_loss: 0.000000), lr: 0.0009090909090909091\n",
      "step: 200, acc: 0.852, loss: 0.446 (data_loss: 0.446, reg_loss: 0.000000), lr: 0.0008333333333333334\n",
      "step: 300, acc: 0.836, loss: 0.452 (data_loss: 0.452, reg_loss: 0.000000), lr: 0.0007692307692307692\n",
      "step: 400, acc: 0.836, loss: 0.405 (data_loss: 0.405, reg_loss: 0.000000), lr: 0.0007142857142857143\n",
      "step: 468, acc: 0.854, loss: 0.360 (data_loss: 0.360, reg_loss: 0.000000), lr: 0.000681198910081744\n",
      "epoch: 2\n",
      "step: 0, acc: 0.852, loss: 0.388 (data_loss: 0.388, reg_loss: 0.000000), lr: 0.0006807351940095304\n",
      "step: 100, acc: 0.859, loss: 0.413 (data_loss: 0.413, reg_loss: 0.000000), lr: 0.0006373486297004461\n",
      "step: 200, acc: 0.844, loss: 0.387 (data_loss: 0.387, reg_loss: 0.000000), lr: 0.0005991611743559018\n",
      "step: 300, acc: 0.867, loss: 0.387 (data_loss: 0.387, reg_loss: 0.000000), lr: 0.0005652911249293386\n",
      "step: 400, acc: 0.836, loss: 0.400 (data_loss: 0.400, reg_loss: 0.000000), lr: 0.0005350454788657037\n",
      "step: 468, acc: 0.844, loss: 0.322 (data_loss: 0.322, reg_loss: 0.000000), lr: 0.0005162622612287042\n",
      "epoch: 3\n",
      "step: 0, acc: 0.867, loss: 0.340 (data_loss: 0.340, reg_loss: 0.000000), lr: 0.0005159958720330237\n",
      "step: 100, acc: 0.891, loss: 0.356 (data_loss: 0.356, reg_loss: 0.000000), lr: 0.0004906771344455348\n",
      "step: 200, acc: 0.859, loss: 0.355 (data_loss: 0.355, reg_loss: 0.000000), lr: 0.0004677268475210477\n",
      "step: 300, acc: 0.875, loss: 0.365 (data_loss: 0.365, reg_loss: 0.000000), lr: 0.00044682752457551384\n",
      "step: 400, acc: 0.859, loss: 0.369 (data_loss: 0.369, reg_loss: 0.000000), lr: 0.00042771599657827206\n",
      "step: 468, acc: 0.875, loss: 0.275 (data_loss: 0.275, reg_loss: 0.000000), lr: 0.0004156275976724854\n",
      "epoch: 4\n",
      "step: 0, acc: 0.891, loss: 0.299 (data_loss: 0.299, reg_loss: 0.000000), lr: 0.0004154549231408392\n",
      "step: 100, acc: 0.883, loss: 0.331 (data_loss: 0.331, reg_loss: 0.000000), lr: 0.00039888312724371757\n",
      "step: 200, acc: 0.867, loss: 0.329 (data_loss: 0.329, reg_loss: 0.000000), lr: 0.0003835826620636747\n",
      "step: 300, acc: 0.875, loss: 0.340 (data_loss: 0.340, reg_loss: 0.000000), lr: 0.0003694126339120798\n",
      "step: 400, acc: 0.875, loss: 0.340 (data_loss: 0.340, reg_loss: 0.000000), lr: 0.0003562522265764161\n",
      "step: 468, acc: 0.885, loss: 0.240 (data_loss: 0.240, reg_loss: 0.000000), lr: 0.00034782608695652176\n",
      "epoch: 5\n",
      "step: 0, acc: 0.898, loss: 0.273 (data_loss: 0.273, reg_loss: 0.000000), lr: 0.0003477051460361613\n",
      "step: 100, acc: 0.891, loss: 0.306 (data_loss: 0.306, reg_loss: 0.000000), lr: 0.00033602150537634406\n",
      "step: 200, acc: 0.875, loss: 0.311 (data_loss: 0.311, reg_loss: 0.000000), lr: 0.00032509752925877764\n",
      "step: 300, acc: 0.875, loss: 0.317 (data_loss: 0.317, reg_loss: 0.000000), lr: 0.00031486146095717883\n",
      "step: 400, acc: 0.898, loss: 0.330 (data_loss: 0.330, reg_loss: 0.000000), lr: 0.00030525030525030525\n",
      "step: 468, acc: 0.896, loss: 0.222 (data_loss: 0.222, reg_loss: 0.000000), lr: 0.0002990430622009569\n",
      "epoch: 6\n",
      "step: 0, acc: 0.906, loss: 0.248 (data_loss: 0.248, reg_loss: 0.000000), lr: 0.0002989536621823617\n",
      "step: 100, acc: 0.906, loss: 0.284 (data_loss: 0.284, reg_loss: 0.000000), lr: 0.00029027576197387516\n",
      "step: 200, acc: 0.875, loss: 0.297 (data_loss: 0.297, reg_loss: 0.000000), lr: 0.0002820874471086037\n",
      "step: 300, acc: 0.875, loss: 0.298 (data_loss: 0.298, reg_loss: 0.000000), lr: 0.00027434842249657066\n",
      "step: 400, acc: 0.898, loss: 0.317 (data_loss: 0.317, reg_loss: 0.000000), lr: 0.000267022696929239\n",
      "step: 468, acc: 0.917, loss: 0.202 (data_loss: 0.202, reg_loss: 0.000000), lr: 0.00026226068712300026\n",
      "epoch: 7\n",
      "step: 0, acc: 0.906, loss: 0.233 (data_loss: 0.233, reg_loss: 0.000000), lr: 0.00026219192448872575\n",
      "step: 100, acc: 0.898, loss: 0.272 (data_loss: 0.272, reg_loss: 0.000000), lr: 0.00025549310168625444\n",
      "step: 200, acc: 0.875, loss: 0.289 (data_loss: 0.289, reg_loss: 0.000000), lr: 0.00024912805181863477\n",
      "step: 300, acc: 0.875, loss: 0.282 (data_loss: 0.282, reg_loss: 0.000000), lr: 0.0002430724355858046\n",
      "step: 400, acc: 0.898, loss: 0.306 (data_loss: 0.306, reg_loss: 0.000000), lr: 0.00023730422401518745\n",
      "step: 468, acc: 0.917, loss: 0.189 (data_loss: 0.189, reg_loss: 0.000000), lr: 0.00023353573096683791\n",
      "epoch: 8\n",
      "step: 0, acc: 0.914, loss: 0.224 (data_loss: 0.224, reg_loss: 0.000000), lr: 0.00023348120476301658\n",
      "step: 100, acc: 0.898, loss: 0.262 (data_loss: 0.262, reg_loss: 0.000000), lr: 0.00022815423226100847\n",
      "step: 200, acc: 0.875, loss: 0.281 (data_loss: 0.281, reg_loss: 0.000000), lr: 0.0002230649118893598\n",
      "step: 300, acc: 0.891, loss: 0.268 (data_loss: 0.268, reg_loss: 0.000000), lr: 0.00021819768710451667\n",
      "step: 400, acc: 0.906, loss: 0.294 (data_loss: 0.294, reg_loss: 0.000000), lr: 0.00021353833013025838\n",
      "step: 468, acc: 0.948, loss: 0.181 (data_loss: 0.181, reg_loss: 0.000000), lr: 0.00021048200378867611\n",
      "epoch: 9\n",
      "step: 0, acc: 0.914, loss: 0.218 (data_loss: 0.218, reg_loss: 0.000000), lr: 0.0002104377104377104\n",
      "step: 100, acc: 0.898, loss: 0.252 (data_loss: 0.252, reg_loss: 0.000000), lr: 0.0002061005770816158\n",
      "step: 200, acc: 0.898, loss: 0.269 (data_loss: 0.269, reg_loss: 0.000000), lr: 0.00020193861066235866\n",
      "step: 300, acc: 0.883, loss: 0.259 (data_loss: 0.259, reg_loss: 0.000000), lr: 0.0001979414093428345\n",
      "step: 400, acc: 0.906, loss: 0.283 (data_loss: 0.283, reg_loss: 0.000000), lr: 0.0001940993788819876\n",
      "step: 468, acc: 0.948, loss: 0.174 (data_loss: 0.174, reg_loss: 0.000000), lr: 0.00019157088122605365\n",
      "epoch: 10\n",
      "step: 0, acc: 0.922, loss: 0.211 (data_loss: 0.211, reg_loss: 0.000000), lr: 0.0001915341888527102\n",
      "step: 100, acc: 0.914, loss: 0.244 (data_loss: 0.244, reg_loss: 0.000000), lr: 0.00018793459875963167\n",
      "step: 200, acc: 0.898, loss: 0.259 (data_loss: 0.259, reg_loss: 0.000000), lr: 0.00018446781036709093\n",
      "step: 300, acc: 0.875, loss: 0.251 (data_loss: 0.251, reg_loss: 0.000000), lr: 0.00018112660749864155\n",
      "step: 400, acc: 0.914, loss: 0.274 (data_loss: 0.274, reg_loss: 0.000000), lr: 0.00017790428749332856\n",
      "step: 468, acc: 0.948, loss: 0.167 (data_loss: 0.167, reg_loss: 0.000000), lr: 0.00017577781683951485\n",
      "training, acc: 0.915, loss: 0.236 (data_loss: 0.236, reg_loss: 0.000000), lr: 0.00017577781683951485\n",
      "Validation, acc: 0.880, loss: 0.331\n"
     ]
    }
   ],
   "source": [
    "#instantiate the model\n",
    "model = nnfs_module.Model()\n",
    "\n",
    "#add layers\n",
    "model.add(nnfs_module.Layer_Dense(X.shape[1], 128)) #dense layer 1 with 128 neurons\n",
    "model.add(nnfs_module.ReLU_Activation()) #ReLU used for activation\n",
    "model.add(nnfs_module.Layer_Dense(128,128)) #dense layer 2 with 128 neurons\n",
    "model.add(nnfs_module.ReLU_Activation())\n",
    "model.add(nnfs_module.Layer_Dense(128,10)) #dense layer 3 with 10 neurons\n",
    "model.add(nnfs_module.Activation_Softmax()) #output layer using Softmax for categorical classification\n",
    "\n",
    "#set loss, optimizer and accuracy objects\n",
    "model.set(\\\n",
    "         loss=nnfs_module.Loss_CategoricalCrossEntropy(),\\\n",
    "         optimizer=nnfs_module.Optimizer_Adam(decay=1e-3),\\\n",
    "         accuracy=nnfs_module.Accuracy_Categorical())\n",
    "\n",
    "#finalize the model\n",
    "model.finalize()\n",
    "\n",
    "#train the model\n",
    "model.train(X, y, validation_data=(X_test, y_test),\\\n",
    "           epochs=10, batch_size=128, print_every=100)"
   ]
  },
  {
   "cell_type": "code",
   "execution_count": 12,
   "id": "15f0070f",
   "metadata": {},
   "outputs": [
    {
     "name": "stdout",
     "output_type": "stream",
     "text": [
      "Validation, acc: 0.880, loss: 0.331\n"
     ]
    }
   ],
   "source": [
    "model.evaluate(X_test, y_test)"
   ]
  },
  {
   "cell_type": "markdown",
   "id": "b61ac0db",
   "metadata": {},
   "source": [
    "## Model training with parameter copying functionality"
   ]
  },
  {
   "cell_type": "code",
   "execution_count": 13,
   "id": "5b30d3a7",
   "metadata": {},
   "outputs": [
    {
     "name": "stdout",
     "output_type": "stream",
     "text": [
      "epoch: 1\n",
      "step: 0, acc: 0.117, loss: 2.774 (data_loss: 2.774, reg_loss: 0.000000), lr: 0.001\n",
      "step: 100, acc: 0.789, loss: 0.583 (data_loss: 0.583, reg_loss: 0.000000), lr: 0.0009090909090909091\n",
      "step: 200, acc: 0.844, loss: 0.469 (data_loss: 0.469, reg_loss: 0.000000), lr: 0.0008333333333333334\n",
      "step: 300, acc: 0.805, loss: 0.489 (data_loss: 0.489, reg_loss: 0.000000), lr: 0.0007692307692307692\n",
      "step: 400, acc: 0.867, loss: 0.387 (data_loss: 0.387, reg_loss: 0.000000), lr: 0.0007142857142857143\n",
      "step: 468, acc: 0.865, loss: 0.295 (data_loss: 0.295, reg_loss: 0.000000), lr: 0.000681198910081744\n",
      "epoch: 2\n",
      "step: 0, acc: 0.844, loss: 0.403 (data_loss: 0.403, reg_loss: 0.000000), lr: 0.0006807351940095304\n",
      "step: 100, acc: 0.836, loss: 0.414 (data_loss: 0.414, reg_loss: 0.000000), lr: 0.0006373486297004461\n",
      "step: 200, acc: 0.875, loss: 0.370 (data_loss: 0.370, reg_loss: 0.000000), lr: 0.0005991611743559018\n",
      "step: 300, acc: 0.852, loss: 0.395 (data_loss: 0.395, reg_loss: 0.000000), lr: 0.0005652911249293386\n",
      "step: 400, acc: 0.836, loss: 0.377 (data_loss: 0.377, reg_loss: 0.000000), lr: 0.0005350454788657037\n",
      "step: 468, acc: 0.885, loss: 0.262 (data_loss: 0.262, reg_loss: 0.000000), lr: 0.0005162622612287042\n",
      "epoch: 3\n",
      "step: 0, acc: 0.875, loss: 0.365 (data_loss: 0.365, reg_loss: 0.000000), lr: 0.0005159958720330237\n",
      "step: 100, acc: 0.852, loss: 0.383 (data_loss: 0.383, reg_loss: 0.000000), lr: 0.0004906771344455348\n",
      "step: 200, acc: 0.883, loss: 0.320 (data_loss: 0.320, reg_loss: 0.000000), lr: 0.0004677268475210477\n",
      "step: 300, acc: 0.883, loss: 0.368 (data_loss: 0.368, reg_loss: 0.000000), lr: 0.00044682752457551384\n",
      "step: 400, acc: 0.859, loss: 0.359 (data_loss: 0.359, reg_loss: 0.000000), lr: 0.00042771599657827206\n",
      "step: 468, acc: 0.906, loss: 0.246 (data_loss: 0.246, reg_loss: 0.000000), lr: 0.0004156275976724854\n",
      "epoch: 4\n",
      "step: 0, acc: 0.883, loss: 0.324 (data_loss: 0.324, reg_loss: 0.000000), lr: 0.0004154549231408392\n",
      "step: 100, acc: 0.844, loss: 0.360 (data_loss: 0.360, reg_loss: 0.000000), lr: 0.00039888312724371757\n",
      "step: 200, acc: 0.898, loss: 0.297 (data_loss: 0.297, reg_loss: 0.000000), lr: 0.0003835826620636747\n",
      "step: 300, acc: 0.875, loss: 0.346 (data_loss: 0.346, reg_loss: 0.000000), lr: 0.0003694126339120798\n",
      "step: 400, acc: 0.867, loss: 0.342 (data_loss: 0.342, reg_loss: 0.000000), lr: 0.0003562522265764161\n",
      "step: 468, acc: 0.917, loss: 0.230 (data_loss: 0.230, reg_loss: 0.000000), lr: 0.00034782608695652176\n",
      "epoch: 5\n",
      "step: 0, acc: 0.891, loss: 0.311 (data_loss: 0.311, reg_loss: 0.000000), lr: 0.0003477051460361613\n",
      "step: 100, acc: 0.859, loss: 0.344 (data_loss: 0.344, reg_loss: 0.000000), lr: 0.00033602150537634406\n",
      "step: 200, acc: 0.898, loss: 0.289 (data_loss: 0.289, reg_loss: 0.000000), lr: 0.00032509752925877764\n",
      "step: 300, acc: 0.875, loss: 0.322 (data_loss: 0.322, reg_loss: 0.000000), lr: 0.00031486146095717883\n",
      "step: 400, acc: 0.883, loss: 0.330 (data_loss: 0.330, reg_loss: 0.000000), lr: 0.00030525030525030525\n",
      "step: 468, acc: 0.917, loss: 0.218 (data_loss: 0.218, reg_loss: 0.000000), lr: 0.0002990430622009569\n",
      "epoch: 6\n",
      "step: 0, acc: 0.875, loss: 0.287 (data_loss: 0.287, reg_loss: 0.000000), lr: 0.0002989536621823617\n",
      "step: 100, acc: 0.867, loss: 0.318 (data_loss: 0.318, reg_loss: 0.000000), lr: 0.00029027576197387516\n",
      "step: 200, acc: 0.898, loss: 0.283 (data_loss: 0.283, reg_loss: 0.000000), lr: 0.0002820874471086037\n",
      "step: 300, acc: 0.875, loss: 0.308 (data_loss: 0.308, reg_loss: 0.000000), lr: 0.00027434842249657066\n",
      "step: 400, acc: 0.891, loss: 0.318 (data_loss: 0.318, reg_loss: 0.000000), lr: 0.000267022696929239\n",
      "step: 468, acc: 0.917, loss: 0.212 (data_loss: 0.212, reg_loss: 0.000000), lr: 0.00026226068712300026\n",
      "epoch: 7\n",
      "step: 0, acc: 0.867, loss: 0.259 (data_loss: 0.259, reg_loss: 0.000000), lr: 0.00026219192448872575\n",
      "step: 100, acc: 0.883, loss: 0.297 (data_loss: 0.297, reg_loss: 0.000000), lr: 0.00025549310168625444\n",
      "step: 200, acc: 0.898, loss: 0.276 (data_loss: 0.276, reg_loss: 0.000000), lr: 0.00024912805181863477\n",
      "step: 300, acc: 0.867, loss: 0.300 (data_loss: 0.300, reg_loss: 0.000000), lr: 0.0002430724355858046\n",
      "step: 400, acc: 0.891, loss: 0.308 (data_loss: 0.308, reg_loss: 0.000000), lr: 0.00023730422401518745\n",
      "step: 468, acc: 0.917, loss: 0.206 (data_loss: 0.206, reg_loss: 0.000000), lr: 0.00023353573096683791\n",
      "epoch: 8\n",
      "step: 0, acc: 0.883, loss: 0.250 (data_loss: 0.250, reg_loss: 0.000000), lr: 0.00023348120476301658\n",
      "step: 100, acc: 0.891, loss: 0.283 (data_loss: 0.283, reg_loss: 0.000000), lr: 0.00022815423226100847\n",
      "step: 200, acc: 0.898, loss: 0.271 (data_loss: 0.271, reg_loss: 0.000000), lr: 0.0002230649118893598\n",
      "step: 300, acc: 0.875, loss: 0.293 (data_loss: 0.293, reg_loss: 0.000000), lr: 0.00021819768710451667\n",
      "step: 400, acc: 0.898, loss: 0.301 (data_loss: 0.301, reg_loss: 0.000000), lr: 0.00021353833013025838\n",
      "step: 468, acc: 0.917, loss: 0.197 (data_loss: 0.197, reg_loss: 0.000000), lr: 0.00021048200378867611\n",
      "epoch: 9\n",
      "step: 0, acc: 0.883, loss: 0.237 (data_loss: 0.237, reg_loss: 0.000000), lr: 0.0002104377104377104\n",
      "step: 100, acc: 0.898, loss: 0.270 (data_loss: 0.270, reg_loss: 0.000000), lr: 0.0002061005770816158\n",
      "step: 200, acc: 0.906, loss: 0.266 (data_loss: 0.266, reg_loss: 0.000000), lr: 0.00020193861066235866\n",
      "step: 300, acc: 0.875, loss: 0.288 (data_loss: 0.288, reg_loss: 0.000000), lr: 0.0001979414093428345\n",
      "step: 400, acc: 0.898, loss: 0.295 (data_loss: 0.295, reg_loss: 0.000000), lr: 0.0001940993788819876\n",
      "step: 468, acc: 0.938, loss: 0.191 (data_loss: 0.191, reg_loss: 0.000000), lr: 0.00019157088122605365\n",
      "epoch: 10\n",
      "step: 0, acc: 0.898, loss: 0.221 (data_loss: 0.221, reg_loss: 0.000000), lr: 0.0001915341888527102\n",
      "step: 100, acc: 0.914, loss: 0.263 (data_loss: 0.263, reg_loss: 0.000000), lr: 0.00018793459875963167\n",
      "step: 200, acc: 0.914, loss: 0.261 (data_loss: 0.261, reg_loss: 0.000000), lr: 0.00018446781036709093\n",
      "step: 300, acc: 0.883, loss: 0.277 (data_loss: 0.277, reg_loss: 0.000000), lr: 0.00018112660749864155\n",
      "step: 400, acc: 0.891, loss: 0.288 (data_loss: 0.288, reg_loss: 0.000000), lr: 0.00017790428749332856\n",
      "step: 468, acc: 0.938, loss: 0.187 (data_loss: 0.187, reg_loss: 0.000000), lr: 0.00017577781683951485\n",
      "training, acc: 0.915, loss: 0.231 (data_loss: 0.231, reg_loss: 0.000000), lr: 0.00017577781683951485\n",
      "Validation, acc: 0.881, loss: 0.335\n",
      "Validation, acc: 0.881, loss: 0.335\n"
     ]
    }
   ],
   "source": [
    "#instantiate the model\n",
    "model = nnfs_module.Model()\n",
    "\n",
    "#add layers\n",
    "model.add(nnfs_module.Layer_Dense(X.shape[1], 128)) #dense layer 1 with 128 neurons\n",
    "model.add(nnfs_module.ReLU_Activation()) #ReLU used for activation\n",
    "model.add(nnfs_module.Layer_Dense(128,128)) #dense layer 2 with 128 neurons\n",
    "model.add(nnfs_module.ReLU_Activation())\n",
    "model.add(nnfs_module.Layer_Dense(128,10)) #dense layer 3 with 10 neurons\n",
    "model.add(nnfs_module.Activation_Softmax()) #output layer using Softmax for categorical classification\n",
    "\n",
    "#set loss, optimizer and accuracy objects\n",
    "model.set(\\\n",
    "         loss=nnfs_module.Loss_CategoricalCrossEntropy(),\\\n",
    "         optimizer=nnfs_module.Optimizer_Adam(decay=1e-3),\\\n",
    "         accuracy=nnfs_module.Accuracy_Categorical())\n",
    "\n",
    "#finalize the model\n",
    "model.finalize()\n",
    "\n",
    "#train the model\n",
    "model.train(X, y, validation_data=(X_test, y_test),\\\n",
    "           epochs=10, batch_size=128, print_every=100)\n",
    "\n",
    "parameters = model.get_parameters()\n",
    "\n",
    "#New model\n",
    "#instantiate the model\n",
    "model = nnfs_module.Model()\n",
    "\n",
    "#add layers\n",
    "model.add(nnfs_module.Layer_Dense(X.shape[1], 128)) #dense layer 1 with 128 neurons\n",
    "model.add(nnfs_module.ReLU_Activation()) #ReLU used for activation\n",
    "model.add(nnfs_module.Layer_Dense(128,128)) #dense layer 2 with 128 neurons\n",
    "model.add(nnfs_module.ReLU_Activation())\n",
    "model.add(nnfs_module.Layer_Dense(128,10)) #dense layer 3 with 10 neurons\n",
    "model.add(nnfs_module.Activation_Softmax()) #output layer using Softmax for categorical classification\n",
    "\n",
    "#set loss, optimizer and accuracy objects\n",
    "model.set(\\\n",
    "         loss=nnfs_module.Loss_CategoricalCrossEntropy(),\\\n",
    "         accuracy=nnfs_module.Accuracy_Categorical())\n",
    "\n",
    "#finalize the model\n",
    "model.finalize()\n",
    "\n",
    "#set model with parameter instead of training it\n",
    "model.set_parameters(parameters)\n",
    "\n",
    "#evaluate the model\n",
    "model.evaluate(X_test, y_test)"
   ]
  },
  {
   "cell_type": "markdown",
   "id": "5cef3374",
   "metadata": {},
   "source": [
    "## Save model parameters to file"
   ]
  },
  {
   "cell_type": "code",
   "execution_count": 14,
   "id": "2ead1842",
   "metadata": {},
   "outputs": [],
   "source": [
    "model.save_parameters('fashion_mnist.parms')"
   ]
  },
  {
   "cell_type": "markdown",
   "id": "16444058",
   "metadata": {},
   "source": [
    "## Load parameters from file and evaluate new model"
   ]
  },
  {
   "cell_type": "code",
   "execution_count": 15,
   "id": "1cd81c5b",
   "metadata": {},
   "outputs": [
    {
     "name": "stdout",
     "output_type": "stream",
     "text": [
      "Validation, acc: 0.881, loss: 0.335\n"
     ]
    }
   ],
   "source": [
    "#New model\n",
    "#instantiate the model\n",
    "model = nnfs_module.Model()\n",
    "\n",
    "#add layers\n",
    "model.add(nnfs_module.Layer_Dense(X.shape[1], 128)) #dense layer 1 with 128 neurons\n",
    "model.add(nnfs_module.ReLU_Activation()) #ReLU used for activation\n",
    "model.add(nnfs_module.Layer_Dense(128,128)) #dense layer 2 with 128 neurons\n",
    "model.add(nnfs_module.ReLU_Activation())\n",
    "model.add(nnfs_module.Layer_Dense(128,10)) #dense layer 3 with 10 neurons\n",
    "model.add(nnfs_module.Activation_Softmax()) #output layer using Softmax for categorical classification\n",
    "\n",
    "#set loss, optimizer and accuracy objects\n",
    "model.set(\\\n",
    "         loss=nnfs_module.Loss_CategoricalCrossEntropy(),\\\n",
    "         accuracy=nnfs_module.Accuracy_Categorical())\n",
    "\n",
    "#finalize the model\n",
    "model.finalize()\n",
    "\n",
    "#set model with parameter instead of training it\n",
    "model.load_parameters('fashion_mnist.parms')\n",
    "\n",
    "#evaluate the model\n",
    "model.evaluate(X_test, y_test)"
   ]
  },
  {
   "cell_type": "markdown",
   "id": "c43387a9",
   "metadata": {},
   "source": [
    "## Save full serialized model to file"
   ]
  },
  {
   "cell_type": "code",
   "execution_count": 16,
   "id": "90c8a1a3",
   "metadata": {},
   "outputs": [],
   "source": [
    "model.save('fashion_mnist.model')"
   ]
  },
  {
   "cell_type": "markdown",
   "id": "229c2e23",
   "metadata": {},
   "source": [
    "## Load serialized model from file"
   ]
  },
  {
   "cell_type": "code",
   "execution_count": 17,
   "id": "384be7c8",
   "metadata": {},
   "outputs": [
    {
     "name": "stdout",
     "output_type": "stream",
     "text": [
      "Validation, acc: 0.881, loss: 0.335\n"
     ]
    }
   ],
   "source": [
    "model = nnfs_module.Model.load('fashion_mnist.model')\n",
    "model.evaluate(X_test, y_test)"
   ]
  },
  {
   "cell_type": "markdown",
   "id": "cac0c342",
   "metadata": {},
   "source": [
    "## Test predict functionality on test set"
   ]
  },
  {
   "cell_type": "code",
   "execution_count": 18,
   "id": "cfc90051",
   "metadata": {},
   "outputs": [
    {
     "name": "stdout",
     "output_type": "stream",
     "text": [
      "[[1.89829973e-06 2.63677128e-07 5.02056861e-06 2.65449453e-06\n",
      "  2.40354618e-06 3.77624812e-03 2.78284349e-06 3.79031264e-03\n",
      "  3.61209305e-06 9.92414804e-01]\n",
      " [1.40162559e-05 2.17026814e-04 9.21974203e-07 2.42495126e-05\n",
      "  1.03538775e-06 8.94721085e-01 1.03155181e-05 2.10514594e-02\n",
      "  1.72975008e-03 8.22301397e-02]\n",
      " [2.60011064e-08 6.21938157e-09 1.05145424e-07 1.04922622e-07\n",
      "  4.50473424e-08 1.02476320e-05 4.36950344e-08 1.25099285e-02\n",
      "  4.89906439e-08 9.87479444e-01]\n",
      " [2.48159038e-10 9.78776252e-12 2.58413207e-10 1.64639483e-09\n",
      "  1.44861136e-10 8.62867242e-08 3.00998010e-10 2.14040951e-04\n",
      "  4.44603359e-11 9.99785870e-01]\n",
      " [8.80373007e-06 9.52023155e-06 2.52695484e-05 2.62681691e-05\n",
      "  2.36832186e-05 1.53863991e-03 1.13326081e-05 9.70687897e-01\n",
      "  1.02194452e-03 2.66466415e-02]]\n",
      "[9 5 9 9 7]\n"
     ]
    }
   ],
   "source": [
    "#predict on the first 5 samples from the validation set\n",
    "#print result\n",
    "confidences = model.predict(X_test[:5])\n",
    "print(confidences)\n",
    "\n",
    "#print the labels of the predicted values\n",
    "predictions = model.output_layer_activation.predictions(confidences)\n",
    "print(predictions)"
   ]
  },
  {
   "cell_type": "code",
   "execution_count": 19,
   "id": "f7dc2dde",
   "metadata": {},
   "outputs": [
    {
     "name": "stdout",
     "output_type": "stream",
     "text": [
      "[9 9 9 9 9]\n"
     ]
    }
   ],
   "source": [
    "#print first 5 sample target labels from test set\n",
    "print(y_test[:5])"
   ]
  },
  {
   "cell_type": "code",
   "execution_count": 20,
   "id": "e135663c",
   "metadata": {},
   "outputs": [
    {
     "name": "stdout",
     "output_type": "stream",
     "text": [
      "Ankle Boot\n",
      "Sandal\n",
      "Ankle Boot\n",
      "Ankle Boot\n",
      "Sneaker\n"
     ]
    }
   ],
   "source": [
    "for prediction in predictions:\n",
    "    print(fashion_mnist_labels[prediction])"
   ]
  },
  {
   "cell_type": "markdown",
   "id": "9ab4cfb6",
   "metadata": {},
   "source": [
    "# Test model using real world data"
   ]
  },
  {
   "cell_type": "markdown",
   "id": "b616144f",
   "metadata": {},
   "source": [
    "## Get data\n",
    "Image was trained on gray scale images"
   ]
  },
  {
   "cell_type": "code",
   "execution_count": 21,
   "id": "48994524",
   "metadata": {},
   "outputs": [
    {
     "data": {
      "image/png": "[encoded data removed]",
      "text/plain": [
       "<Figure size 640x480 with 1 Axes>"
      ]
     },
     "metadata": {},
     "output_type": "display_data"
    },
    {
     "data": {
      "image/png": "[encoded data removed]",
      "text/plain": [
       "<Figure size 640x480 with 1 Axes>"
      ]
     },
     "metadata": {},
     "output_type": "display_data"
    }
   ],
   "source": [
    "#import image data\n",
    "image_data = cv2.imread('tshirt.png', cv2.IMREAD_UNCHANGED)\n",
    "\n",
    "#view image\n",
    "#convert cv2 from BGR to RGB\n",
    "#and display using matplotlib\n",
    "plt.imshow(cv2.cvtColor(image_data, cv2.COLOR_BGR2RGB))\n",
    "plt.show()\n",
    "\n",
    "#import same image in gray scale\n",
    "image_data = cv2.imread('tshirt.png', cv2.IMREAD_GRAYSCALE)\n",
    "\n",
    "#view image in gray scale\n",
    "plt.imshow(image_data, cmap='gray')\n",
    "plt.show()"
   ]
  },
  {
   "cell_type": "markdown",
   "id": "0b589664",
   "metadata": {},
   "source": [
    "## Resize data\n",
    "model was trained on 28x28 pixel images"
   ]
  },
  {
   "cell_type": "code",
   "execution_count": 22,
   "id": "f5e363b1",
   "metadata": {},
   "outputs": [
    {
     "data": {
      "image/png": "[encoded data removed]",
      "text/plain": [
       "<Figure size 640x480 with 1 Axes>"
      ]
     },
     "metadata": {},
     "output_type": "display_data"
    }
   ],
   "source": [
    "#resize image\n",
    "image_data = cv2.resize(image_data, (28,28))\n",
    "\n",
    "#display image\n",
    "plt.imshow(image_data, cmap='gray')\n",
    "plt.show()"
   ]
  },
  {
   "cell_type": "markdown",
   "id": "e5586832",
   "metadata": {},
   "source": [
    "## Invert image color\n",
    "Model was trained on inverted images. Invert by subtracting all pixels from max pixel value (255; 0-255)"
   ]
  },
  {
   "cell_type": "code",
   "execution_count": 23,
   "id": "0d064d23",
   "metadata": {},
   "outputs": [
    {
     "data": {
      "image/png": "[encoded data removed]",
      "text/plain": [
       "<Figure size 640x480 with 1 Axes>"
      ]
     },
     "metadata": {},
     "output_type": "display_data"
    }
   ],
   "source": [
    "#invert image colors\n",
    "image_data = 255 - image_data\n",
    "\n",
    "#print inverted image\n",
    "plt.imshow(image_data, cmap='gray')\n",
    "plt.show()"
   ]
  },
  {
   "cell_type": "markdown",
   "id": "b0ba8d1a",
   "metadata": {},
   "source": [
    "## Reshape and scale pixel data\n",
    "model was trained on scaled pixel values to be in range of -1 to 1 and flattend images (each sample is a row)"
   ]
  },
  {
   "cell_type": "code",
   "execution_count": 24,
   "id": "91d00dc8",
   "metadata": {},
   "outputs": [],
   "source": [
    "image_data = (image_data.reshape(1, -1).astype(np.float32) - 127.5) / 127.5"
   ]
  },
  {
   "cell_type": "markdown",
   "id": "fe99edb9",
   "metadata": {},
   "source": [
    "## Load the model and predict"
   ]
  },
  {
   "cell_type": "code",
   "execution_count": 25,
   "id": "6185b7df",
   "metadata": {},
   "outputs": [
    {
     "name": "stdout",
     "output_type": "stream",
     "text": [
      "T-shirt / top\n"
     ]
    }
   ],
   "source": [
    "#load model\n",
    "model = nnfs_module.Model.load('fashion_mnist.model')\n",
    "\n",
    "#predict on the image and get confidence levels\n",
    "confidences = model.predict(image_data)\n",
    "\n",
    "#get predictions in label form\n",
    "predictions = model.output_layer_activation.predictions(confidences)\n",
    "\n",
    "#get label from label dictionary\n",
    "prediction = fashion_mnist_labels[predictions[0]]\n",
    "print(prediction)"
   ]
  },
  {
   "cell_type": "markdown",
   "id": "63c4b8e0",
   "metadata": {},
   "source": [
    "## Do all the same but on picture of trousers"
   ]
  },
  {
   "cell_type": "code",
   "execution_count": 28,
   "id": "d36ec710",
   "metadata": {},
   "outputs": [
    {
     "data": {
      "image/png": "[encoded data removed]",
      "text/plain": [
       "<Figure size 640x480 with 1 Axes>"
      ]
     },
     "metadata": {},
     "output_type": "display_data"
    }
   ],
   "source": [
    "#read in image\n",
    "image_data = cv2.imread('trousers.png', cv2.IMREAD_GRAYSCALE)\n",
    "\n",
    "#resize the image to 28x28\n",
    "image_data = cv2.resize(image_data, (28,28))\n",
    "\n",
    "#invert image colors\n",
    "image_data = 255 - image_data\n",
    "\n",
    "#print image\n",
    "plt.imshow(image_data, cmap='gray')\n",
    "plt.show()"
   ]
  },
  {
   "cell_type": "code",
   "execution_count": 29,
   "id": "db38de3f",
   "metadata": {},
   "outputs": [
    {
     "name": "stdout",
     "output_type": "stream",
     "text": [
      "[3]\n",
      "Dress\n"
     ]
    }
   ],
   "source": [
    "#flatten and scale image data\n",
    "image_data = (image_data.reshape(1,-1).astype(np.float32) - 127.5) / 127.5\n",
    "\n",
    "#load the model\n",
    "model = nnfs_module.Model.load('fashion_mnist.model')\n",
    "\n",
    "#predict on the image and get confidences\n",
    "confidences = model.predict(image_data)\n",
    "\n",
    "#get predictions in label form\n",
    "predictions = model.output_layer_activation.predictions(confidences)\n",
    "\n",
    "print(predictions)\n",
    "prediction = fashion_mnist_labels[predictions[0]]\n",
    "print(prediction)"
   ]
  },
  {
   "cell_type": "code",
   "execution_count": null,
   "id": "ccbd8d0b",
   "metadata": {},
   "outputs": [],
   "source": []
  }
 ],
 "metadata": {
  "kernelspec": {
   "display_name": "Python 3 (ipykernel)",
   "language": "python",
   "name": "python3"
  },
  "language_info": {
   "codemirror_mode": {
    "name": "ipython",
    "version": 3
   },
   "file_extension": ".py",
   "mimetype": "text/x-python",
   "name": "python",
   "nbconvert_exporter": "python",
   "pygments_lexer": "ipython3",
   "version": "3.7.11"
  }
 },
 "nbformat": 4,
 "nbformat_minor": 5
}
