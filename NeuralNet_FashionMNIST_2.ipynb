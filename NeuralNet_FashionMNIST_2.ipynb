{
 "cells": [
  {
   "cell_type": "code",
   "execution_count": 1,
   "id": "b1e6244d",
   "metadata": {},
   "outputs": [],
   "source": [
    "%matplotlib inline\n",
    "import import_ipynb\n",
    "import NeuralNet_FromScratch as nnfs_module\n",
    "import pandas as pd\n",
    "import numpy as np\n",
    "import matplotlib.pyplot as plt\n",
    "import seaborn as sns\n",
    "from matplotlib import style\n",
    "from nnfs.datasets import spiral_data\n",
    "from nnfs.datasets import sine_data\n",
    "from zipfile import ZipFile\n",
    "import nnfs\n",
    "import os\n",
    "import urllib\n",
    "import urllib.request\n",
    "import cv2\n",
    "\n",
    "style.use(\"dark_background\")"
   ]
  },
  {
   "cell_type": "markdown",
   "id": "afef6b27",
   "metadata": {},
   "source": [
    "# Retreive Dataset"
   ]
  },
  {
   "cell_type": "code",
   "execution_count": 2,
   "id": "07050469",
   "metadata": {},
   "outputs": [
    {
     "name": "stdout",
     "output_type": "stream",
     "text": [
      "Date preparation is complete.\n"
     ]
    }
   ],
   "source": [
    "URL = 'https://nnfs.io/datasets/fashion_mnist_images.zip'\n",
    "FILE = 'fashion_mnist_images.zip'\n",
    "FOLDER = 'fashion_mnist_images'\n",
    "\n",
    "if not os.path.isfile(FILE):\n",
    "    print(f'Downloading {URL} and saving as {FILE}...')\n",
    "    urllib.request.urlretrieve(URL, FILE)\n",
    "\n",
    "if not os.path.isdir(FOLDER):\n",
    "    print(\"Unzipping images ...\")\n",
    "    with ZipFile(FILE) as zip_images:\n",
    "        zip_images.extractall(FOLDER)\n",
    "    print('DONE')\n",
    "    \n",
    "print(\"Date preparation is complete.\")"
   ]
  },
  {
   "cell_type": "markdown",
   "id": "079414a9",
   "metadata": {},
   "source": [
    "# Fashion MNIST Classifications\n",
    "0: T-shirt / top\n",
    "\n",
    "1: Trouser\n",
    "\n",
    "2: Pullover\n",
    "\n",
    "3: Dress\n",
    "\n",
    "4: Coat\n",
    "\n",
    "5: Sandal\n",
    "\n",
    "6: Shirt\n",
    "\n",
    "7: Sneaker\n",
    "\n",
    "8: Bag\n",
    "\n",
    "9: Ankle Boot"
   ]
  },
  {
   "cell_type": "code",
   "execution_count": 3,
   "id": "af772def",
   "metadata": {},
   "outputs": [],
   "source": [
    "fashion_mnist_labels = {\n",
    "    0:'T-shirt / top',\n",
    "    1:'Trouser',\n",
    "    2:'Pullover',\n",
    "    3:'Dress',\n",
    "    4:'Coat',\n",
    "    5:'Sandal',\n",
    "    6:'Shirt',\n",
    "    7:'Sneaker',\n",
    "    8:'Bag',\n",
    "    9:'Ankle Boot'\n",
    "}"
   ]
  },
  {
   "cell_type": "markdown",
   "id": "df978819",
   "metadata": {},
   "source": [
    "# Data Loading Function"
   ]
  },
  {
   "cell_type": "code",
   "execution_count": 4,
   "id": "95fe8920",
   "metadata": {},
   "outputs": [],
   "source": [
    "def load_mnist_dataset(dataset, path):\n",
    "    \n",
    "    #scan all directories and create list of labels\n",
    "    labels = os.listdir(os.path.join(path, dataset))\n",
    "    \n",
    "    #create lists for samples and labels\n",
    "    X = []\n",
    "    y = []\n",
    "    \n",
    "    #for each label folder\n",
    "    for label in labels:\n",
    "        #for each image in the given folder\n",
    "        for file in os.listdir(os.path.join(path, dataset, label)):\n",
    "            #read the image\n",
    "            image = cv2.imread(os.path.join(\\\n",
    "                                path, dataset, label, file),\\\n",
    "                               cv2.IMREAD_UNCHANGED)\n",
    "            \n",
    "            #append image to x and label to y\n",
    "            X.append(image)\n",
    "            y.append(label)\n",
    "            \n",
    "    #convert data structure to numpy arrays and return\n",
    "    return np.array(X), np.array(y).astype('uint8')"
   ]
  },
  {
   "cell_type": "markdown",
   "id": "1abccd25",
   "metadata": {},
   "source": [
    "# Create MNIST Train & Test Datasets"
   ]
  },
  {
   "cell_type": "code",
   "execution_count": 5,
   "id": "bfa603b6",
   "metadata": {},
   "outputs": [],
   "source": [
    "def create_data_mnist(path):\n",
    "    \n",
    "    #load both sets\n",
    "    X, y = load_mnist_dataset('train', path)\n",
    "    X_test, y_test = load_mnist_dataset('test', path)\n",
    "    \n",
    "    #return all datasets\n",
    "    return X, y, X_test, y_test"
   ]
  },
  {
   "cell_type": "markdown",
   "id": "b1bd8149",
   "metadata": {},
   "source": [
    "# Generate Train and Test Sets"
   ]
  },
  {
   "cell_type": "code",
   "execution_count": 6,
   "id": "f079590f",
   "metadata": {},
   "outputs": [
    {
     "name": "stdout",
     "output_type": "stream",
     "text": [
      "60000\n",
      "60000\n",
      "10000\n",
      "10000\n"
     ]
    }
   ],
   "source": [
    "X, y, X_test, y_test = create_data_mnist(FOLDER)\n",
    "print(len(X))\n",
    "print(len(y))\n",
    "print(len(X_test))\n",
    "print(len(y_test))"
   ]
  },
  {
   "cell_type": "markdown",
   "id": "3f6c3d4f",
   "metadata": {},
   "source": [
    "# Data Preprocessing"
   ]
  },
  {
   "cell_type": "markdown",
   "id": "79039775",
   "metadata": {},
   "source": [
    "## Scale features\n",
    "range from -1 to 1"
   ]
  },
  {
   "cell_type": "code",
   "execution_count": 7,
   "id": "7224c820",
   "metadata": {},
   "outputs": [
    {
     "name": "stdout",
     "output_type": "stream",
     "text": [
      "-1.0 1.0\n",
      "(60000, 28, 28)\n"
     ]
    }
   ],
   "source": [
    "X = (X.astype(np.float32) - 127.5) / 127.5\n",
    "X_test = (X_test.astype(np.float32) - 127.5) / 127.5\n",
    "\n",
    "print(X.min(), X.max())\n",
    "print(X.shape)"
   ]
  },
  {
   "cell_type": "markdown",
   "id": "5e413d27",
   "metadata": {},
   "source": [
    "## Reshape Data\n",
    "From 3D to 2D by flattening image data from 28x28 to 1x784"
   ]
  },
  {
   "cell_type": "code",
   "execution_count": 8,
   "id": "a6b998c0",
   "metadata": {},
   "outputs": [
    {
     "name": "stdout",
     "output_type": "stream",
     "text": [
      "(60000, 784)\n",
      "(10000, 784)\n"
     ]
    }
   ],
   "source": [
    "X = X.reshape(X.shape[0], -1)\n",
    "X_test = X_test.reshape(X_test.shape[0], -1)\n",
    "\n",
    "print(X.shape)\n",
    "print(X_test.shape)"
   ]
  },
  {
   "cell_type": "markdown",
   "id": "0485d225",
   "metadata": {},
   "source": [
    "## Shuffle Samples"
   ]
  },
  {
   "cell_type": "code",
   "execution_count": 9,
   "id": "47b56be7",
   "metadata": {},
   "outputs": [
    {
     "data": {
      "image/png": "[encoded data removed]",
      "text/plain": [
       "<Figure size 640x480 with 1 Axes>"
      ]
     },
     "metadata": {},
     "output_type": "display_data"
    },
    {
     "name": "stdout",
     "output_type": "stream",
     "text": [
      "8\n"
     ]
    },
    {
     "data": {
      "image/png": "[encoded data removed]",
      "text/plain": [
       "<Figure size 640x480 with 1 Axes>"
      ]
     },
     "metadata": {},
     "output_type": "display_data"
    },
    {
     "name": "stdout",
     "output_type": "stream",
     "text": [
      "1\n"
     ]
    }
   ],
   "source": [
    "keys = np.array(range(X.shape[0])) #number of indices in samples\n",
    "np.random.shuffle(keys) #shuffle indices\n",
    "\n",
    "#grab by indice and assign to array\n",
    "X = X[keys]\n",
    "y = y[keys]\n",
    "\n",
    "#test shuffling\n",
    "plt.imshow(X[8].reshape(28,28), cmap='gray') #reshape back to a matrix for veiwing\n",
    "plt.show()\n",
    "print(y[8])\n",
    "\n",
    "plt.imshow(X[999].reshape(28,28), cmap='gray') #reshape back to a matrix for veiwing\n",
    "plt.show()\n",
    "print(y[999])"
   ]
  },
  {
   "cell_type": "code",
   "execution_count": 11,
   "id": "b092134c",
   "metadata": {},
   "outputs": [
    {
     "name": "stdout",
     "output_type": "stream",
     "text": [
      "epoch: 1\n",
      "step: 0, acc: 0.141, loss: 2.321 (data_loss: 2.321, reg_loss: 0.000000), lr: 0.001\n",
      "step: 100, acc: 0.719, loss: 0.629 (data_loss: 0.629, reg_loss: 0.000000), lr: 0.0009090909090909091\n",
      "step: 200, acc: 0.797, loss: 0.570 (data_loss: 0.570, reg_loss: 0.000000), lr: 0.0008333333333333334\n",
      "step: 300, acc: 0.836, loss: 0.472 (data_loss: 0.472, reg_loss: 0.000000), lr: 0.0007692307692307692\n",
      "step: 400, acc: 0.805, loss: 0.533 (data_loss: 0.533, reg_loss: 0.000000), lr: 0.0007142857142857143\n",
      "step: 468, acc: 0.802, loss: 0.518 (data_loss: 0.518, reg_loss: 0.000000), lr: 0.000681198910081744\n",
      "epoch: 2\n",
      "step: 0, acc: 0.812, loss: 0.494 (data_loss: 0.494, reg_loss: 0.000000), lr: 0.0006807351940095304\n",
      "step: 100, acc: 0.844, loss: 0.454 (data_loss: 0.454, reg_loss: 0.000000), lr: 0.0006373486297004461\n",
      "step: 200, acc: 0.836, loss: 0.429 (data_loss: 0.429, reg_loss: 0.000000), lr: 0.0005991611743559018\n",
      "step: 300, acc: 0.852, loss: 0.401 (data_loss: 0.401, reg_loss: 0.000000), lr: 0.0005652911249293386\n",
      "step: 400, acc: 0.836, loss: 0.458 (data_loss: 0.458, reg_loss: 0.000000), lr: 0.0005350454788657037\n",
      "step: 468, acc: 0.802, loss: 0.485 (data_loss: 0.485, reg_loss: 0.000000), lr: 0.0005162622612287042\n",
      "epoch: 3\n",
      "step: 0, acc: 0.812, loss: 0.469 (data_loss: 0.469, reg_loss: 0.000000), lr: 0.0005159958720330237\n",
      "step: 100, acc: 0.859, loss: 0.407 (data_loss: 0.407, reg_loss: 0.000000), lr: 0.0004906771344455348\n",
      "step: 200, acc: 0.852, loss: 0.370 (data_loss: 0.370, reg_loss: 0.000000), lr: 0.0004677268475210477\n",
      "step: 300, acc: 0.859, loss: 0.375 (data_loss: 0.375, reg_loss: 0.000000), lr: 0.00044682752457551384\n",
      "step: 400, acc: 0.875, loss: 0.420 (data_loss: 0.420, reg_loss: 0.000000), lr: 0.00042771599657827206\n",
      "step: 468, acc: 0.823, loss: 0.464 (data_loss: 0.464, reg_loss: 0.000000), lr: 0.0004156275976724854\n",
      "epoch: 4\n",
      "step: 0, acc: 0.820, loss: 0.437 (data_loss: 0.437, reg_loss: 0.000000), lr: 0.0004154549231408392\n",
      "step: 100, acc: 0.859, loss: 0.382 (data_loss: 0.382, reg_loss: 0.000000), lr: 0.00039888312724371757\n",
      "step: 200, acc: 0.852, loss: 0.337 (data_loss: 0.337, reg_loss: 0.000000), lr: 0.0003835826620636747\n",
      "step: 300, acc: 0.859, loss: 0.360 (data_loss: 0.360, reg_loss: 0.000000), lr: 0.0003694126339120798\n",
      "step: 400, acc: 0.883, loss: 0.404 (data_loss: 0.404, reg_loss: 0.000000), lr: 0.0003562522265764161\n",
      "step: 468, acc: 0.823, loss: 0.444 (data_loss: 0.444, reg_loss: 0.000000), lr: 0.00034782608695652176\n",
      "epoch: 5\n",
      "step: 0, acc: 0.820, loss: 0.421 (data_loss: 0.421, reg_loss: 0.000000), lr: 0.0003477051460361613\n",
      "step: 100, acc: 0.875, loss: 0.367 (data_loss: 0.367, reg_loss: 0.000000), lr: 0.00033602150537634406\n",
      "step: 200, acc: 0.867, loss: 0.319 (data_loss: 0.319, reg_loss: 0.000000), lr: 0.00032509752925877764\n",
      "step: 300, acc: 0.859, loss: 0.344 (data_loss: 0.344, reg_loss: 0.000000), lr: 0.00031486146095717883\n",
      "step: 400, acc: 0.875, loss: 0.392 (data_loss: 0.392, reg_loss: 0.000000), lr: 0.00030525030525030525\n",
      "step: 468, acc: 0.833, loss: 0.429 (data_loss: 0.429, reg_loss: 0.000000), lr: 0.0002990430622009569\n",
      "training, acc: 0.868, loss: 0.372 (data_loss: 0.372, reg_loss: 0.000000), lr: 0.0002990430622009569\n",
      "Validation, acc: 0.855, loss: 0.413\n"
     ]
    }
   ],
   "source": [
    "#instantiate the model\n",
    "model = nnfs_module.Model()\n",
    "\n",
    "#add layers\n",
    "model.add(nnfs_module.Layer_Dense(X.shape[1], 32)) #dense layer 1 with 32 neurons\n",
    "model.add(nnfs_module.ReLU_Activation()) #ReLU used for activation\n",
    "model.add(nnfs_module.Layer_Dense(32,32)) #dense layer 2 with 32 neurons\n",
    "model.add(nnfs_module.ReLU_Activation())\n",
    "model.add(nnfs_module.Layer_Dense(32,10)) #dense layer 3 with 10 neurons\n",
    "model.add(nnfs_module.Activation_Softmax()) #output layer using Softmax for categorical classification\n",
    "\n",
    "#set loss, optimizer and accuracy objects\n",
    "model.set(\\\n",
    "         loss=nnfs_module.Loss_CategoricalCrossEntropy(),\\\n",
    "         optimizer=nnfs_module.Optimizer_Adam(decay=1e-3),\\\n",
    "         accuracy=nnfs_module.Accuracy_Categorical())\n",
    "\n",
    "#finalize the model\n",
    "model.finalize()\n",
    "\n",
    "#train the model\n",
    "model.train(X, y, validation_data=(X_test, y_test),\\\n",
    "           epochs=5, batch_size=128, print_every=100)\n",
    "\n",
    "model.save('fashion_mnist_2.model')\n",
    "\n",
    "model.save_train_dict('train_dict.pkl')"
   ]
  },
  {
   "cell_type": "code",
   "execution_count": 13,
   "id": "d2ba8043",
   "metadata": {},
   "outputs": [
    {
     "data": {
      "text/plain": [
       "<matplotlib.image.AxesImage at 0x7fbadc751090>"
      ]
     },
     "execution_count": 13,
     "metadata": {},
     "output_type": "execute_result"
    },
    {
     "data": {
      "image/png": "[encoded data removed]",
      "text/plain": [
       "<Figure size 640x480 with 1 Axes>"
      ]
     },
     "metadata": {},
     "output_type": "display_data"
    }
   ],
   "source": [
    "plt.imshow(X_test[0].reshape(28,28), cmap='gray')"
   ]
  },
  {
   "cell_type": "code",
   "execution_count": 14,
   "id": "f995c8d2",
   "metadata": {},
   "outputs": [
    {
     "name": "stdout",
     "output_type": "stream",
     "text": [
      "[[6.18640695e-06 2.73413929e-05 2.39709513e-06 8.39532305e-07\n",
      "  1.31996934e-05 5.70825668e-02 6.34951730e-06 1.41483864e-01\n",
      "  2.12272021e-03 7.99254536e-01]]\n"
     ]
    }
   ],
   "source": [
    "print(model.predict(X_test[0]))"
   ]
  },
  {
   "cell_type": "code",
   "execution_count": 17,
   "id": "b3ca489d",
   "metadata": {},
   "outputs": [
    {
     "name": "stdout",
     "output_type": "stream",
     "text": [
      "9\n",
      "9\n"
     ]
    }
   ],
   "source": [
    "print(np.argmax(model.predict(X_test[0])))\n",
    "print(y_test[0])"
   ]
  },
  {
   "cell_type": "code",
   "execution_count": 18,
   "id": "b920a1ec",
   "metadata": {},
   "outputs": [
    {
     "name": "stdout",
     "output_type": "stream",
     "text": [
      "[[ 6.15875271  5.77980266 -5.39537482  9.16068722  9.6156052   7.65536705\n",
      "  -5.70918488  4.2908187   9.84482578  8.67702765  8.97241165 10.64015961\n",
      "   1.19326066  6.13429132 -2.80762708  5.77679467  0.76183625  0.23287973\n",
      "   7.47208449 -5.95556392  4.75176369  1.17790164 -1.49255051  3.17263417\n",
      "   8.37587957 12.33679092  0.92400456  4.76859654  8.49541475  8.89462336\n",
      "   0.13898645  1.5803669 ]]\n",
      "[[ 6.15875271  5.77980266  0.          9.16068722  9.6156052   7.65536705\n",
      "   0.          4.2908187   9.84482578  8.67702765  8.97241165 10.64015961\n",
      "   1.19326066  6.13429132  0.          5.77679467  0.76183625  0.23287973\n",
      "   7.47208449  0.          4.75176369  1.17790164  0.          3.17263417\n",
      "   8.37587957 12.33679092  0.92400456  4.76859654  8.49541475  8.89462336\n",
      "   0.13898645  1.5803669 ]]\n",
      "[[ 1.86441711 -0.42185391  5.96778243  2.514482    0.97657889  9.31522925\n",
      "   0.76597318 -1.23367915 -4.56084101 -4.38468825 -3.80660218 -6.8135709\n",
      "   1.27276366  0.83787393  0.63881338 -2.53181354  0.21586237 14.38527481\n",
      "   7.3373984  -6.71674986 -2.19772568  3.9023497  -0.39361385  0.81947218\n",
      "  -2.30655066 -3.82625494  9.36469105  4.04233229  5.75829585  1.30524917\n",
      "   2.6424574  17.56590143]]\n",
      "[[ 1.86441711  0.          5.96778243  2.514482    0.97657889  9.31522925\n",
      "   0.76597318  0.          0.          0.          0.          0.\n",
      "   1.27276366  0.83787393  0.63881338  0.          0.21586237 14.38527481\n",
      "   7.3373984   0.          0.          3.9023497   0.          0.81947218\n",
      "   0.          0.          9.36469105  4.04233229  5.75829585  1.30524917\n",
      "   2.6424574  17.56590143]]\n",
      "[[-4.36421876 -2.87817144 -5.31231558 -6.36148354 -3.60637962  4.76568082\n",
      "  -4.33819443  5.67336773  1.47388044  7.40486152]]\n",
      "[[6.18640695e-06 2.73413929e-05 2.39709513e-06 8.39532305e-07\n",
      "  1.31996934e-05 5.70825668e-02 6.34951730e-06 1.41483864e-01\n",
      "  2.12272021e-03 7.99254536e-01]]\n"
     ]
    }
   ],
   "source": [
    "for layer in model.layers:\n",
    "    print(layer.output)"
   ]
  },
  {
   "cell_type": "code",
   "execution_count": 26,
   "id": "b950d607",
   "metadata": {},
   "outputs": [],
   "source": [
    "def visualize_layers(sample_num, fig):\n",
    "    input_data = X_test[sample_num]\n",
    "    output_truth = y_test[sample_num]\n",
    "    prediction = model.predict(input_data)\n",
    "    \n",
    "    pred_class = np.argmax(prediction)\n",
    "    \n",
    "    if pred_class == output_truth:\n",
    "        title_text = f\"Correct! Prediction {pred_class}, Truth {output_truth}\"\n",
    "        fig.suptitle(title_text, fontsize=20, color=\"g\")\n",
    "    else:\n",
    "        title_text = f\"Wrong! Prediction {pred_class}, Truth {output_truth}\"\n",
    "        fig.suptitle(title_text, fontsize=20, color=\"r\")\n",
    "        \n",
    "    #Generate Axes#\n",
    "    #axis for sample\n",
    "    ax0 = plt.subplot2grid((1,7), (0,0), rowspan=1, colspan=1)\n",
    "    #axes for the layers\n",
    "    #TODO: loop layers for count and generate axes\n",
    "    ax1 = plt.subplot2grid((1,7), (0,1), rowspan=1, colspan=1)\n",
    "    ax2 = plt.subplot2grid((1,7), (0,2), rowspan=1, colspan=1)\n",
    "    ax3 = plt.subplot2grid((1,7), (0,3), rowspan=1, colspan=1)\n",
    "    ax4 = plt.subplot2grid((1,7), (0,4), rowspan=1, colspan=1)\n",
    "    ax5 = plt.subplot2grid((1,7), (0,5), rowspan=1, colspan=1)\n",
    "    ax6 = plt.subplot2grid((1,7), (0,6), rowspan=1, colspan=1)\n",
    "    \n",
    "    \n",
    "    #Gather axis data from layer outputs#\n",
    "    #output is a vector\n",
    "    #rotate to display vertically\n",
    "    #rotates counterclockwise\n",
    "    #TODO: check layer dimensions\n",
    "    layer_1 = np.rot90(model.layers[0].output, k=3, axes=(0,1))\n",
    "    layer_1_activated = np.rot90(model.layers[1].output, k=3, axes=(0,1))\n",
    "    \n",
    "    layer_2 = np.rot90(model.layers[2].output, k=3, axes=(0,1))\n",
    "    layer_2_activated = np.rot90(model.layers[3].output, k=3, axes=(0,1))\n",
    "    \n",
    "    layer_3 = np.rot90(model.layers[4].output, k=3, axes=(0,1))\n",
    "    layer_3_activated = np.rot90(model.layers[5].output, k=3, axes=(0,1))\n",
    "    \n",
    "    \n",
    "    #Display data#\n",
    "    #display sample\n",
    "    ax0.imshow(input_data.reshape(28,28), cmap='gray')\n",
    "    #display layer outputs\n",
    "    #TODO: check layer max, min\n",
    "    ax1.imshow(layer_1, cmap='RdYlGn')\n",
    "    ax2.imshow(layer_1_activated, cmap='YlGn')\n",
    "    \n",
    "    ax3.imshow(layer_2, cmap='RdYlGn')\n",
    "    ax4.imshow(layer_2_activated, cmap='YlGn')\n",
    "    \n",
    "    ax5.imshow(layer_3, cmap='RdYlGn')\n",
    "    ax6.imshow(layer_3_activated, cmap='YlGn')\n",
    "    \n",
    "    ax0.axis(\"off\")\n",
    "    \n",
    "    #set titles\n",
    "    #TODO: do in a loop\n",
    "    ax1.set_title(\"L1\")\n",
    "    ax2.set_title(\"L1_activated\")\n",
    "    ax3.set_title(\"L2\")\n",
    "    ax4.set_title(\"L2_activated\")\n",
    "    ax5.set_title(\"L3\")\n",
    "    ax6.set_title(\"L3_activated\")\n",
    "    \n",
    "    plt.show()\n",
    "    "
   ]
  },
  {
   "cell_type": "code",
   "execution_count": 27,
   "id": "435e8f0b",
   "metadata": {
    "scrolled": true
   },
   "outputs": [
    {
     "data": {
      "image/png": "[encoded data removed]",
      "text/plain": [
       "<Figure size 2000x1000 with 7 Axes>"
      ]
     },
     "metadata": {},
     "output_type": "display_data"
    }
   ],
   "source": [
    "fig = plt.figure(figsize=(20,10))\n",
    "visualize_layers(0, fig)"
   ]
  },
  {
   "cell_type": "markdown",
   "id": "6639c23d",
   "metadata": {},
   "source": [
    "# Save Sample figure animations\n",
    "These animations are for each sample and display the outputs from each layer"
   ]
  },
  {
   "cell_type": "code",
   "execution_count": 30,
   "id": "e4c02157",
   "metadata": {},
   "outputs": [],
   "source": [
    "%matplotlib tk\n",
    "from matplotlib import animation\n",
    "\n",
    "LIMIT = 1000\n",
    "\n",
    "dir_name = \"layer_outs\"\n",
    "\n",
    "if not os.path.exists(dir_name):\n",
    "    os.makedirs(dir_name)\n",
    "    \n",
    "fig = plt.figure(figsize=(12,12))\n",
    "\n",
    "def animate(i):\n",
    "    fig.clear()\n",
    "    visualize_layers(i, fig)\n",
    "    plt.savefig(f'{dir_name}/{y_test[i]}-{i}.png')\n",
    "\n",
    "anim = animation.FuncAnimation(fig, animate, frames=LIMIT)\n",
    "plt.show()"
   ]
  },
  {
   "cell_type": "code",
   "execution_count": null,
   "id": "2f69b5b3",
   "metadata": {},
   "outputs": [],
   "source": [
    "from tqdm import tqdm\n",
    "\n",
    "layer_data_by_class = {}"
   ]
  }
 ],
 "metadata": {
  "kernelspec": {
   "display_name": "Python 3 (ipykernel)",
   "language": "python",
   "name": "python3"
  },
  "language_info": {
   "codemirror_mode": {
    "name": "ipython",
    "version": 3
   },
   "file_extension": ".py",
   "mimetype": "text/x-python",
   "name": "python",
   "nbconvert_exporter": "python",
   "pygments_lexer": "ipython3",
   "version": "3.7.11"
  }
 },
 "nbformat": 4,
 "nbformat_minor": 5
}
